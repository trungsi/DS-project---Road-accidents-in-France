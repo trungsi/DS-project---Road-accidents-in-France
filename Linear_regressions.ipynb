{
  "cells": [
    {
      "cell_type": "markdown",
      "metadata": {
        "id": "view-in-github",
        "colab_type": "text"
      },
      "source": [
        "<a href=\"https://colab.research.google.com/github/trungsi/DS-project---Road-accidents-in-France/blob/master/Linear_regressions.ipynb\" target=\"_parent\"><img src=\"https://colab.research.google.com/assets/colab-badge.svg\" alt=\"Open In Colab\"/></a>"
      ]
    },
    {
      "cell_type": "code",
      "execution_count": 56,
      "metadata": {
        "colab": {
          "base_uri": "https://localhost:8080/"
        },
        "id": "OYGWy51USaXU",
        "outputId": "79abdccd-f0ca-4e64-a9c6-fe62b4832560"
      },
      "outputs": [
        {
          "output_type": "stream",
          "name": "stdout",
          "text": [
            "Drive already mounted at /content/drive; to attempt to forcibly remount, call drive.mount(\"/content/drive\", force_remount=True).\n"
          ]
        },
        {
          "output_type": "stream",
          "name": "stderr",
          "text": [
            "<ipython-input-56-4b98f2bad7af>:6: DtypeWarning: Columns (5,11,13,14,15) have mixed types. Specify dtype option on import or set low_memory=False.\n",
            "  df = pd.read_csv(f, index_col=0)\n"
          ]
        },
        {
          "output_type": "stream",
          "name": "stdout",
          "text": [
            "<class 'pandas.core.frame.DataFrame'>\n",
            "Int64Index: 1034545 entries, 0 to 1034544\n",
            "Data columns (total 24 columns):\n",
            " #   Column      Non-Null Count    Dtype  \n",
            "---  ------      --------------    -----  \n",
            " 0   Num_Acc     1034545 non-null  int64  \n",
            " 1   an          1034545 non-null  int64  \n",
            " 2   mois        1034545 non-null  int64  \n",
            " 3   jour        1034545 non-null  int64  \n",
            " 4   hrmn        1034545 non-null  object \n",
            " 5   lum         1034545 non-null  int64  \n",
            " 6   agg         1034545 non-null  int64  \n",
            " 7   int         1034545 non-null  int64  \n",
            " 8   atm         1034472 non-null  float64\n",
            " 9   col         1034526 non-null  float64\n",
            " 10  com         1034545 non-null  object \n",
            " 11  adr         908057 non-null   object \n",
            " 12  gps         453015 non-null   object \n",
            " 13  lat         607560 non-null   object \n",
            " 14  long        607556 non-null   object \n",
            " 15  dep         1034545 non-null  object \n",
            " 16  grav_mean   1034545 non-null  float64\n",
            " 17  grav_total  1034545 non-null  int64  \n",
            " 18  nb_usagers  1034545 non-null  int64  \n",
            " 19  date        1034545 non-null  object \n",
            " 20  nb_jour     1034545 non-null  int64  \n",
            " 21  nb_semaine  1034545 non-null  int64  \n",
            " 22  surf        1032621 non-null  float64\n",
            " 23  vma         163102 non-null   float64\n",
            "dtypes: float64(5), int64(11), object(8)\n",
            "memory usage: 197.3+ MB\n"
          ]
        }
      ],
      "source": [
        "import pandas as pd\n",
        "from google.colab import drive\n",
        "drive.mount('/content/drive')\n",
        "\n",
        "with open('/content/drive/My Drive/DataScience project/Road accidents - model.csv', 'r', encoding='ISO-8859-1') as f:\n",
        "  df = pd.read_csv(f, index_col=0)\n",
        "\n",
        "df.info()"
      ]
    },
    {
      "cell_type": "code",
      "execution_count": 57,
      "metadata": {
        "colab": {
          "base_uri": "https://localhost:8080/"
        },
        "id": "bGFSMz09W6DK",
        "outputId": "bd4eaaa3-d27e-43a0-95ae-f976dccea205"
      },
      "outputs": [
        {
          "output_type": "stream",
          "name": "stdout",
          "text": [
            "        Num_Acc  an  mois  jour  hrmn  lum  agg  int      atm      col  ...  \\\n",
            "0  200600000001   6     1     4  1545    1    2    2 1.000000 3.000000  ...   \n",
            "1  200600000002   6     1     6   805    2    2    2 4.000000 3.000000  ...   \n",
            "2  200600000003   6     1     9  1340    1    2    1 1.000000 6.000000  ...   \n",
            "3  200600000004   6     1    10  1625    2    2    1 8.000000 3.000000  ...   \n",
            "4  200600000005   6     1    24  1120    1    1    1 1.000000 2.000000  ...   \n",
            "\n",
            "  long dep grav_mean grav_total nb_usagers        date  nb_jour  nb_semaine  \\\n",
            "0  NaN  10  2.000000          3          6  2006-01-04        4           1   \n",
            "1  NaN  10  3.000000          2          6  2006-01-06        6           1   \n",
            "2  NaN  10  3.500000          2          7  2006-01-09        9           2   \n",
            "3  NaN  10  1.500000          2          3  2006-01-10       10           2   \n",
            "4  NaN  10  1.500000          2          3  2006-01-24       24           4   \n",
            "\n",
            "      surf vma  \n",
            "0 1.000000 NaN  \n",
            "1 2.000000 NaN  \n",
            "2 1.000000 NaN  \n",
            "3 2.000000 NaN  \n",
            "4 1.000000 NaN  \n",
            "\n",
            "[5 rows x 24 columns]\n",
            "count   1034545.000000\n",
            "mean          3.150756\n",
            "std           2.261146\n",
            "min           0.053571\n",
            "25%           1.500000\n",
            "50%           3.000000\n",
            "75%           3.500000\n",
            "max          13.000000\n",
            "Name: grav_mean, dtype: float64\n"
          ]
        }
      ],
      "source": [
        "# to show full float values instead of exponential format\n",
        "pd.set_option('float_format', '{:f}'.format)\n",
        "print(df.head())\n",
        "print(df.grav_mean.describe())"
      ]
    },
    {
      "cell_type": "code",
      "execution_count": 58,
      "metadata": {
        "colab": {
          "base_uri": "https://localhost:8080/",
          "height": 265
        },
        "id": "6rUAgTbXYGCp",
        "outputId": "2dde689c-5143-45c2-d6d6-2817288cc892"
      },
      "outputs": [
        {
          "output_type": "display_data",
          "data": {
            "text/plain": [
              "<Figure size 432x288 with 1 Axes>"
            ],
            "image/png": "[encoded data removed]"
          },
          "metadata": {
            "needs_background": "light"
          }
        }
      ],
      "source": [
        "%matplotlib inline\n",
        "import matplotlib.pyplot as plt\n",
        "\n",
        "plt.hist(df.grav_mean);"
      ]
    },
    {
      "cell_type": "markdown",
      "source": [
        "# mean gravity varies from 0 to 13 with mean around 3 and majority (75%) are less than 4\n",
        "\n",
        "# Data is skewed"
      ],
      "metadata": {
        "id": "ZvmqNpDDOVRv"
      }
    },
    {
      "cell_type": "code",
      "source": [
        "# remove columns not useful for the model\n",
        "df = df.drop(columns=['Num_Acc', 'an', 'mois', 'jour', 'hrmn', 'adr', 'gps', 'lat', 'long', 'com', 'grav_total', 'date', 'nb_jour', 'nb_semaine', 'vma'])\n",
        "df = df.dropna()\n",
        "df.info()"
      ],
      "metadata": {
        "id": "Le7pSRofj8JH",
        "colab": {
          "base_uri": "https://localhost:8080/"
        },
        "outputId": "b8624183-ebff-46ff-c353-447e4864a0ac"
      },
      "execution_count": 59,
      "outputs": [
        {
          "output_type": "stream",
          "name": "stdout",
          "text": [
            "<class 'pandas.core.frame.DataFrame'>\n",
            "Int64Index: 1032546 entries, 0 to 1034544\n",
            "Data columns (total 9 columns):\n",
            " #   Column      Non-Null Count    Dtype  \n",
            "---  ------      --------------    -----  \n",
            " 0   lum         1032546 non-null  int64  \n",
            " 1   agg         1032546 non-null  int64  \n",
            " 2   int         1032546 non-null  int64  \n",
            " 3   atm         1032546 non-null  float64\n",
            " 4   col         1032546 non-null  float64\n",
            " 5   dep         1032546 non-null  object \n",
            " 6   grav_mean   1032546 non-null  float64\n",
            " 7   nb_usagers  1032546 non-null  int64  \n",
            " 8   surf        1032546 non-null  float64\n",
            "dtypes: float64(4), int64(4), object(1)\n",
            "memory usage: 78.8+ MB\n"
          ]
        }
      ]
    },
    {
      "cell_type": "code",
      "source": [
        "import seaborn as sns\n",
        "\n",
        "plt.figure(figsize=(13,13))\n",
        "sns.heatmap(df.corr(),  annot=True, cmap=\"RdBu_r\", center =0);"
      ],
      "metadata": {
        "colab": {
          "base_uri": "https://localhost:8080/",
          "height": 759
        },
        "id": "BjqzUmaKdV_H",
        "outputId": "e1ffb478-abd7-4507-b681-d781a234a339"
      },
      "execution_count": 60,
      "outputs": [
        {
          "output_type": "display_data",
          "data": {
            "text/plain": [
              "<Figure size 936x936 with 2 Axes>"
            ],
            "image/png": "[encoded data removed]"
          },
          "metadata": {
            "needs_background": "light"
          }
        }
      ]
    },
    {
      "cell_type": "markdown",
      "source": [
        "# Number of usagers is highly influent on gravity. \n",
        "# The Location (agglomeration or hors agglomeration) is the second most important feature. \n",
        "# Collision type comes next as the third important feature.\n",
        "# All other features are not important. Can they be excluded from the model ?"
      ],
      "metadata": {
        "id": "JyWXgkjNgGIv"
      }
    },
    {
      "cell_type": "code",
      "execution_count": 54,
      "metadata": {
        "colab": {
          "base_uri": "https://localhost:8080/"
        },
        "id": "vgGC7Ct7ZiqX",
        "outputId": "3a78d1c6-4406-4a47-8680-fc83e67cf5b3"
      },
      "outputs": [
        {
          "output_type": "stream",
          "name": "stdout",
          "text": [
            "<class 'pandas.core.frame.DataFrame'>\n",
            "Int64Index: 1032546 entries, 0 to 1034544\n",
            "Data columns (total 9 columns):\n",
            " #   Column      Non-Null Count    Dtype  \n",
            "---  ------      --------------    -----  \n",
            " 0   lum         1032546 non-null  object \n",
            " 1   agg         1032546 non-null  object \n",
            " 2   int         1032546 non-null  object \n",
            " 3   atm         1032546 non-null  object \n",
            " 4   col         1032546 non-null  object \n",
            " 5   dep         1032546 non-null  object \n",
            " 6   grav_mean   1032546 non-null  float64\n",
            " 7   nb_usagers  1032546 non-null  int64  \n",
            " 8   surf        1032546 non-null  object \n",
            "dtypes: float64(1), int64(1), object(7)\n",
            "memory usage: 78.8+ MB\n"
          ]
        }
      ],
      "source": [
        "# convert categorical variables which are currently encoded as numeric to string type\n",
        "# only nb_usagers is numeric\n",
        "df = df.astype({'lum' : 'str', 'agg': 'str', 'int': 'str', 'atm': 'str', 'col': 'str', 'surf': 'str'})\n",
        "df.info()"
      ]
    },
    {
      "cell_type": "code",
      "execution_count": 28,
      "metadata": {
        "id": "EwDD-B5cgDyh",
        "colab": {
          "base_uri": "https://localhost:8080/"
        },
        "outputId": "b474753e-5df6-4a77-a7ec-3aad40161a20"
      },
      "outputs": [
        {
          "output_type": "stream",
          "name": "stdout",
          "text": [
            "<class 'pandas.core.frame.DataFrame'>\n",
            "Int64Index: 1032546 entries, 0 to 1034544\n",
            "Columns: 158 entries, grav_mean to surf_9.0\n",
            "dtypes: float64(1), int64(1), uint8(156)\n",
            "memory usage: 177.2 MB\n"
          ]
        }
      ],
      "source": [
        "# convert categorical variables to numeric using dummy\n",
        "df = pd.get_dummies(df)\n",
        "df.info()"
      ]
    },
    {
      "cell_type": "code",
      "source": [
        "df.head()"
      ],
      "metadata": {
        "colab": {
          "base_uri": "https://localhost:8080/",
          "height": 300
        },
        "id": "OtxriVOSki4a",
        "outputId": "d1107e1e-9b21-41e8-8f8f-4542c1304bd6"
      },
      "execution_count": 29,
      "outputs": [
        {
          "output_type": "execute_result",
          "data": {
            "text/plain": [
              "   grav_mean  nb_usagers  lum_-1  lum_1  lum_2  lum_3  lum_4  lum_5  agg_1  \\\n",
              "0   2.000000           6       0      1      0      0      0      0      0   \n",
              "1   3.000000           6       0      0      1      0      0      0      0   \n",
              "2   3.500000           7       0      1      0      0      0      0      0   \n",
              "3   1.500000           3       0      0      1      0      0      0      0   \n",
              "4   1.500000           3       0      1      0      0      0      0      1   \n",
              "\n",
              "   agg_2  ...  surf_0.0  surf_1.0  surf_2.0  surf_3.0  surf_4.0  surf_5.0  \\\n",
              "0      1  ...         0         1         0         0         0         0   \n",
              "1      1  ...         0         0         1         0         0         0   \n",
              "2      1  ...         0         1         0         0         0         0   \n",
              "3      1  ...         0         0         1         0         0         0   \n",
              "4      0  ...         0         1         0         0         0         0   \n",
              "\n",
              "   surf_6.0  surf_7.0  surf_8.0  surf_9.0  \n",
              "0         0         0         0         0  \n",
              "1         0         0         0         0  \n",
              "2         0         0         0         0  \n",
              "3         0         0         0         0  \n",
              "4         0         0         0         0  \n",
              "\n",
              "[5 rows x 158 columns]"
            ],
            "text/html": [
              "\n",
              "  <div id=\"df-c432f1c7-3e59-475e-9c53-6b26569b0f3d\">\n",
              "    <div class=\"colab-df-container\">\n",
              "      <div>\n",
              "<style scoped>\n",
              "    .dataframe tbody tr th:only-of-type {\n",
              "        vertical-align: middle;\n",
              "    }\n",
              "\n",
              "    .dataframe tbody tr th {\n",
              "        vertical-align: top;\n",
              "    }\n",
              "\n",
              "    .dataframe thead th {\n",
              "        text-align: right;\n",
              "    }\n",
              "</style>\n",
              "<table border=\"1\" class=\"dataframe\">\n",
              "  <thead>\n",
              "    <tr style=\"text-align: right;\">\n",
              "      <th></th>\n",
              "      <th>grav_mean</th>\n",
              "      <th>nb_usagers</th>\n",
              "      <th>lum_-1</th>\n",
              "      <th>lum_1</th>\n",
              "      <th>lum_2</th>\n",
              "      <th>lum_3</th>\n",
              "      <th>lum_4</th>\n",
              "      <th>lum_5</th>\n",
              "      <th>agg_1</th>\n",
              "      <th>agg_2</th>\n",
              "      <th>...</th>\n",
              "      <th>surf_0.0</th>\n",
              "      <th>surf_1.0</th>\n",
              "      <th>surf_2.0</th>\n",
              "      <th>surf_3.0</th>\n",
              "      <th>surf_4.0</th>\n",
              "      <th>surf_5.0</th>\n",
              "      <th>surf_6.0</th>\n",
              "      <th>surf_7.0</th>\n",
              "      <th>surf_8.0</th>\n",
              "      <th>surf_9.0</th>\n",
              "    </tr>\n",
              "  </thead>\n",
              "  <tbody>\n",
              "    <tr>\n",
              "      <th>0</th>\n",
              "      <td>2.000000</td>\n",
              "      <td>6</td>\n",
              "      <td>0</td>\n",
              "      <td>1</td>\n",
              "      <td>0</td>\n",
              "      <td>0</td>\n",
              "      <td>0</td>\n",
              "      <td>0</td>\n",
              "      <td>0</td>\n",
              "      <td>1</td>\n",
              "      <td>...</td>\n",
              "      <td>0</td>\n",
              "      <td>1</td>\n",
              "      <td>0</td>\n",
              "      <td>0</td>\n",
              "      <td>0</td>\n",
              "      <td>0</td>\n",
              "      <td>0</td>\n",
              "      <td>0</td>\n",
              "      <td>0</td>\n",
              "      <td>0</td>\n",
              "    </tr>\n",
              "    <tr>\n",
              "      <th>1</th>\n",
              "      <td>3.000000</td>\n",
              "      <td>6</td>\n",
              "      <td>0</td>\n",
              "      <td>0</td>\n",
              "      <td>1</td>\n",
              "      <td>0</td>\n",
              "      <td>0</td>\n",
              "      <td>0</td>\n",
              "      <td>0</td>\n",
              "      <td>1</td>\n",
              "      <td>...</td>\n",
              "      <td>0</td>\n",
              "      <td>0</td>\n",
              "      <td>1</td>\n",
              "      <td>0</td>\n",
              "      <td>0</td>\n",
              "      <td>0</td>\n",
              "      <td>0</td>\n",
              "      <td>0</td>\n",
              "      <td>0</td>\n",
              "      <td>0</td>\n",
              "    </tr>\n",
              "    <tr>\n",
              "      <th>2</th>\n",
              "      <td>3.500000</td>\n",
              "      <td>7</td>\n",
              "      <td>0</td>\n",
              "      <td>1</td>\n",
              "      <td>0</td>\n",
              "      <td>0</td>\n",
              "      <td>0</td>\n",
              "      <td>0</td>\n",
              "      <td>0</td>\n",
              "      <td>1</td>\n",
              "      <td>...</td>\n",
              "      <td>0</td>\n",
              "      <td>1</td>\n",
              "      <td>0</td>\n",
              "      <td>0</td>\n",
              "      <td>0</td>\n",
              "      <td>0</td>\n",
              "      <td>0</td>\n",
              "      <td>0</td>\n",
              "      <td>0</td>\n",
              "      <td>0</td>\n",
              "    </tr>\n",
              "    <tr>\n",
              "      <th>3</th>\n",
              "      <td>1.500000</td>\n",
              "      <td>3</td>\n",
              "      <td>0</td>\n",
              "      <td>0</td>\n",
              "      <td>1</td>\n",
              "      <td>0</td>\n",
              "      <td>0</td>\n",
              "      <td>0</td>\n",
              "      <td>0</td>\n",
              "      <td>1</td>\n",
              "      <td>...</td>\n",
              "      <td>0</td>\n",
              "      <td>0</td>\n",
              "      <td>1</td>\n",
              "      <td>0</td>\n",
              "      <td>0</td>\n",
              "      <td>0</td>\n",
              "      <td>0</td>\n",
              "      <td>0</td>\n",
              "      <td>0</td>\n",
              "      <td>0</td>\n",
              "    </tr>\n",
              "    <tr>\n",
              "      <th>4</th>\n",
              "      <td>1.500000</td>\n",
              "      <td>3</td>\n",
              "      <td>0</td>\n",
              "      <td>1</td>\n",
              "      <td>0</td>\n",
              "      <td>0</td>\n",
              "      <td>0</td>\n",
              "      <td>0</td>\n",
              "      <td>1</td>\n",
              "      <td>0</td>\n",
              "      <td>...</td>\n",
              "      <td>0</td>\n",
              "      <td>1</td>\n",
              "      <td>0</td>\n",
              "      <td>0</td>\n",
              "      <td>0</td>\n",
              "      <td>0</td>\n",
              "      <td>0</td>\n",
              "      <td>0</td>\n",
              "      <td>0</td>\n",
              "      <td>0</td>\n",
              "    </tr>\n",
              "  </tbody>\n",
              "</table>\n",
              "<p>5 rows × 158 columns</p>\n",
              "</div>\n",
              "      <button class=\"colab-df-convert\" onclick=\"convertToInteractive('df-c432f1c7-3e59-475e-9c53-6b26569b0f3d')\"\n",
              "              title=\"Convert this dataframe to an interactive table.\"\n",
              "              style=\"display:none;\">\n",
              "        \n",
              "  <svg xmlns=\"http://www.w3.org/2000/svg\" height=\"24px\"viewBox=\"0 0 24 24\"\n",
              "       width=\"24px\">\n",
              "    <path d=\"M0 0h24v24H0V0z\" fill=\"none\"/>\n",
              "    <path d=\"M18.56 5.44l.94 2.06.94-2.06 2.06-.94-2.06-.94-.94-2.06-.94 2.06-2.06.94zm-11 1L8.5 8.5l.94-2.06 2.06-.94-2.06-.94L8.5 2.5l-.94 2.06-2.06.94zm10 10l.94 2.06.94-2.06 2.06-.94-2.06-.94-.94-2.06-.94 2.06-2.06.94z\"/><path d=\"M17.41 7.96l-1.37-1.37c-.4-.4-.92-.59-1.43-.59-.52 0-1.04.2-1.43.59L10.3 9.45l-7.72 7.72c-.78.78-.78 2.05 0 2.83L4 21.41c.39.39.9.59 1.41.59.51 0 1.02-.2 1.41-.59l7.78-7.78 2.81-2.81c.8-.78.8-2.07 0-2.86zM5.41 20L4 18.59l7.72-7.72 1.47 1.35L5.41 20z\"/>\n",
              "  </svg>\n",
              "      </button>\n",
              "      \n",
              "  <style>\n",
              "    .colab-df-container {\n",
              "      display:flex;\n",
              "      flex-wrap:wrap;\n",
              "      gap: 12px;\n",
              "    }\n",
              "\n",
              "    .colab-df-convert {\n",
              "      background-color: #E8F0FE;\n",
              "      border: none;\n",
              "      border-radius: 50%;\n",
              "      cursor: pointer;\n",
              "      display: none;\n",
              "      fill: #1967D2;\n",
              "      height: 32px;\n",
              "      padding: 0 0 0 0;\n",
              "      width: 32px;\n",
              "    }\n",
              "\n",
              "    .colab-df-convert:hover {\n",
              "      background-color: #E2EBFA;\n",
              "      box-shadow: 0px 1px 2px rgba(60, 64, 67, 0.3), 0px 1px 3px 1px rgba(60, 64, 67, 0.15);\n",
              "      fill: #174EA6;\n",
              "    }\n",
              "\n",
              "    [theme=dark] .colab-df-convert {\n",
              "      background-color: #3B4455;\n",
              "      fill: #D2E3FC;\n",
              "    }\n",
              "\n",
              "    [theme=dark] .colab-df-convert:hover {\n",
              "      background-color: #434B5C;\n",
              "      box-shadow: 0px 1px 3px 1px rgba(0, 0, 0, 0.15);\n",
              "      filter: drop-shadow(0px 1px 2px rgba(0, 0, 0, 0.3));\n",
              "      fill: #FFFFFF;\n",
              "    }\n",
              "  </style>\n",
              "\n",
              "      <script>\n",
              "        const buttonEl =\n",
              "          document.querySelector('#df-c432f1c7-3e59-475e-9c53-6b26569b0f3d button.colab-df-convert');\n",
              "        buttonEl.style.display =\n",
              "          google.colab.kernel.accessAllowed ? 'block' : 'none';\n",
              "\n",
              "        async function convertToInteractive(key) {\n",
              "          const element = document.querySelector('#df-c432f1c7-3e59-475e-9c53-6b26569b0f3d');\n",
              "          const dataTable =\n",
              "            await google.colab.kernel.invokeFunction('convertToInteractive',\n",
              "                                                     [key], {});\n",
              "          if (!dataTable) return;\n",
              "\n",
              "          const docLinkHtml = 'Like what you see? Visit the ' +\n",
              "            '<a target=\"_blank\" href=https://colab.research.google.com/notebooks/data_table.ipynb>data table notebook</a>'\n",
              "            + ' to learn more about interactive tables.';\n",
              "          element.innerHTML = '';\n",
              "          dataTable['output_type'] = 'display_data';\n",
              "          await google.colab.output.renderOutput(dataTable, element);\n",
              "          const docLink = document.createElement('div');\n",
              "          docLink.innerHTML = docLinkHtml;\n",
              "          element.appendChild(docLink);\n",
              "        }\n",
              "      </script>\n",
              "    </div>\n",
              "  </div>\n",
              "  "
            ]
          },
          "metadata": {},
          "execution_count": 29
        }
      ]
    },
    {
      "cell_type": "code",
      "source": [
        "# separation of features and target variables\n",
        "target = df.grav_mean\n",
        "feats = df.drop(columns=['grav_mean'])"
      ],
      "metadata": {
        "id": "JqmpN-Pwkn6p"
      },
      "execution_count": 30,
      "outputs": []
    },
    {
      "cell_type": "code",
      "source": [
        "from sklearn.model_selection import train_test_split\n",
        "\n",
        "X_train, X_test, y_train, y_test = train_test_split(feats, target, test_size=0.2, random_state=123)"
      ],
      "metadata": {
        "id": "xafq69zZk0dE"
      },
      "execution_count": 31,
      "outputs": []
    },
    {
      "cell_type": "code",
      "source": [
        "# try with simple linear regression\n",
        "from sklearn.linear_model import LinearRegression\n",
        "\n",
        "slr = LinearRegression()\n",
        "slr.fit(X_train, y_train)\n",
        "\n",
        "print(\"Coefficient of determination of the model on train data:\", slr.score(X_train, y_train))\n",
        "print(\"Coefficient of determination of the model on test data:\", slr.score(X_test, y_test))"
      ],
      "metadata": {
        "colab": {
          "base_uri": "https://localhost:8080/"
        },
        "id": "bfRhp7Q1lLz2",
        "outputId": "6a0becae-23d0-447d-dfbf-733c32cb9965"
      },
      "execution_count": 32,
      "outputs": [
        {
          "output_type": "stream",
          "name": "stdout",
          "text": [
            "Coefficient of determination of the model on train data: 0.5294050899117094\n",
            "Coefficient of determination of the model on test data: 0.5408991194317183\n"
          ]
        }
      ]
    },
    {
      "cell_type": "markdown",
      "source": [
        "# The score (R2) is not so good with simple model"
      ],
      "metadata": {
        "id": "oxCTqhn7QD8W"
      }
    },
    {
      "cell_type": "code",
      "source": [
        "from sklearn.model_selection import cross_val_predict, cross_val_score, cross_validate\n",
        "\n",
        "scores = cross_validate(slr, X_train, y_train, cv=5, return_train_score=True)\n",
        "print(scores)\n",
        "print(scores['test_score'].mean())\n"
      ],
      "metadata": {
        "id": "5qVN53EikOIo",
        "colab": {
          "base_uri": "https://localhost:8080/"
        },
        "outputId": "e1d7b981-4514-4282-e754-31d846c86305"
      },
      "execution_count": 35,
      "outputs": [
        {
          "output_type": "stream",
          "name": "stdout",
          "text": [
            "{'fit_time': array([23.66366601, 19.28670454, 19.35664582, 19.13883138, 19.11957884]), 'score_time': array([0.23652864, 0.27649164, 0.35503483, 0.29004431, 0.34035158]), 'test_score': array([ 5.19761447e-01,  5.12210857e-01,  5.39311224e-01,  5.36913925e-01,\n",
            "       -5.53021794e+15]), 'train_score': array([0.53178522, 0.53354941, 0.52687569, 0.52745987, 0.52768054])}\n",
            "-1106043587812721.4\n"
          ]
        }
      ]
    },
    {
      "cell_type": "code",
      "source": [
        "y_train_pred = slr.predict(X_train)\n",
        "import math\n",
        "print('RMSE= ', math.sqrt(((y_train_pred - y_train)**2).mean()))"
      ],
      "metadata": {
        "colab": {
          "base_uri": "https://localhost:8080/"
        },
        "id": "5n1tKTIrUzBu",
        "outputId": "e6d4a001-f1e4-4efa-aed6-2250778a6dce"
      },
      "execution_count": 37,
      "outputs": [
        {
          "output_type": "stream",
          "name": "stdout",
          "text": [
            "RMSE=  1.550003240223129\n"
          ]
        }
      ]
    },
    {
      "cell_type": "code",
      "source": [
        "plt.scatter(y_train_pred, y_train)\n",
        "plt.plot((y_train.min(),y_train.max()), (y_train.min(),y_train.max()))"
      ],
      "metadata": {
        "colab": {
          "base_uri": "https://localhost:8080/",
          "height": 282
        },
        "id": "woSQorXEWpuW",
        "outputId": "8368d8c6-ee2d-4c32-cae1-20e695f71121"
      },
      "execution_count": 40,
      "outputs": [
        {
          "output_type": "execute_result",
          "data": {
            "text/plain": [
              "[<matplotlib.lines.Line2D at 0x7facfbbf5700>]"
            ]
          },
          "metadata": {},
          "execution_count": 40
        },
        {
          "output_type": "display_data",
          "data": {
            "text/plain": [
              "<Figure size 432x288 with 1 Axes>"
            ],
            "image/png": "[encoded data removed]"
          },
          "metadata": {
            "needs_background": "light"
          }
        }
      ]
    },
    {
      "cell_type": "code",
      "source": [
        "import numpy as np\n",
        "print(np.percentile(y_train, q=[0, 25, 50, 75, 100]))\n",
        "print(np.percentile(y_train_pred, q=[0, 25, 50, 75, 100]))"
      ],
      "metadata": {
        "colab": {
          "base_uri": "https://localhost:8080/"
        },
        "id": "ffVGsAPbaEJZ",
        "outputId": "8ba36607-f75c-4cc2-f187-ef0952fd7255"
      },
      "execution_count": 47,
      "outputs": [
        {
          "output_type": "stream",
          "name": "stdout",
          "text": [
            "[ 0.05357143  1.5         3.          3.5        13.        ]\n",
            "[ -0.33224487   1.97434998   2.8506012    3.92730713 150.45300293]\n"
          ]
        }
      ]
    },
    {
      "cell_type": "code",
      "source": [
        "from sklearn.feature_selection import f_regression\n",
        "f_regression(X_train, y_train)"
      ],
      "metadata": {
        "colab": {
          "base_uri": "https://localhost:8080/"
        },
        "id": "m3e8NW4dXz35",
        "outputId": "08e32966-a672-40e9-ce68-b0a9e4117d79"
      },
      "execution_count": 39,
      "outputs": [
        {
          "output_type": "execute_result",
          "data": {
            "text/plain": [
              "(array([4.71472244e+05, 2.15297228e-01, 1.08122629e+04, 4.52953371e+02,\n",
              "        3.80587590e+04, 1.04291157e+02, 7.98628224e+02, 8.59487415e+04,\n",
              "        8.59487415e+04, 5.32756568e-01, 8.76137631e-01, 2.63121970e+04,\n",
              "        1.19239605e+04, 7.34387275e+03, 7.27254536e+02, 1.61662295e+03,\n",
              "        2.81826546e+02, 1.09392241e+03, 1.20881768e+02, 2.72871591e+00,\n",
              "        7.09507913e-01, 5.04455520e+02, 2.19859573e+02, 9.60314822e+01,\n",
              "        8.68973585e+01, 1.76633023e+03, 5.40603863e+02, 2.26448712e+02,\n",
              "        2.48658905e+02, 8.34789250e+02, 1.27694153e+02, 4.43850763e+03,\n",
              "        1.78837772e+04, 3.52407659e+04, 1.30658499e+04, 3.42509644e+03,\n",
              "        2.49015612e+04, 4.73701571e+04, 5.35734717e+01, 1.35592736e+02,\n",
              "        1.19462433e+02, 9.01492968e+01, 4.10144949e-01, 3.92839943e+00,\n",
              "        7.10951162e+01, 9.89364597e+01, 1.78678069e+01, 1.09610272e+03,\n",
              "        2.48121423e+02, 7.59662841e+02, 8.96395198e+02, 3.52018726e+02,\n",
              "        3.71411980e+02, 1.03042641e+03, 5.24175546e+01, 2.96566647e+02,\n",
              "        6.34045345e+01, 8.89873408e+02, 2.61817814e+02, 3.93917143e+02,\n",
              "        4.05427392e+02, 1.43255622e+03, 3.95702563e+02, 3.21151666e+02,\n",
              "        6.74471899e+02, 4.08935876e+02, 1.23154713e+02, 3.27063346e+00,\n",
              "        2.88852897e+00, 9.61980880e+02, 1.56947999e+01, 8.50055995e+02,\n",
              "        3.52039881e+02, 3.46662677e+02, 1.45084262e+01, 1.09373379e+02,\n",
              "        9.10151344e+01, 8.27039704e+02, 1.12335744e+03, 1.98426903e+03,\n",
              "        4.29735750e+02, 1.20800657e+01, 8.55694884e+02, 4.56669329e+02,\n",
              "        2.81567252e+02, 6.21197219e+02, 1.02710252e+03, 5.28866112e+02,\n",
              "        1.71366206e+00, 2.11800417e+02, 2.89669426e+02, 3.77670835e+02,\n",
              "        9.43305920e+02, 6.58332850e+01, 4.77327322e+02, 9.05018428e+01,\n",
              "        2.95265861e+02, 2.64247831e+02, 9.29139399e+01, 1.71816016e+02,\n",
              "        9.43541917e+02, 9.88420051e+02, 2.95479366e+01, 1.31978015e+02,\n",
              "        3.34099946e+01, 1.04006071e+02, 2.48698273e+01, 3.13098846e+02,\n",
              "        1.28525944e+03, 1.71463242e+03, 8.33987136e+02, 3.30250913e+02,\n",
              "        9.38433340e+02, 8.65473436e+02, 2.13070635e+04, 2.59868704e+02,\n",
              "        3.15295719e+02, 4.56245566e+01, 7.85518228e+02, 2.19943426e+02,\n",
              "        1.20322652e+03, 1.14427596e+03, 7.09874612e+02, 8.87651240e+02,\n",
              "        1.66121490e+03, 1.54171256e+02, 4.16659574e+01, 8.94127697e+02,\n",
              "        9.07800000e+02, 9.45303755e+01, 1.20199641e+03, 6.56719571e+03,\n",
              "        1.54941705e+03, 5.63332744e+03, 2.78821185e+02, 7.80257605e+02,\n",
              "        7.61782585e+00, 2.02401935e+01, 1.23574178e+01, 4.80047943e-01,\n",
              "        5.03526763e+01, 1.84844723e+01, 2.03440216e+01, 1.65174447e+01,\n",
              "        2.43718768e+02, 2.90701242e+01, 1.16623592e+00, 6.59813164e+01,\n",
              "        6.18310356e+02, 7.64097164e+01, 2.07434139e+02, 9.22435299e+01,\n",
              "        5.34292167e+01, 3.08472311e+02, 1.34443256e+03, 1.10652767e+02,\n",
              "        2.16698481e+03]),\n",
              " array([0.00000000e+000, 6.42646920e-001, 0.00000000e+000, 1.74767625e-100,\n",
              "        0.00000000e+000, 1.75253756e-024, 1.30106504e-175, 0.00000000e+000,\n",
              "        0.00000000e+000, 4.65450448e-001, 3.49262012e-001, 0.00000000e+000,\n",
              "        0.00000000e+000, 0.00000000e+000, 4.15771109e-160, 0.00000000e+000,\n",
              "        3.07663443e-063, 9.93700618e-240, 4.07425395e-028, 9.85588791e-002,\n",
              "        3.99607465e-001, 1.10182969e-111, 9.84973452e-050, 1.13393641e-022,\n",
              "        1.14569430e-020, 0.00000000e+000, 1.52265778e-119, 3.60282627e-051,\n",
              "        5.18805101e-056, 1.82055962e-183, 1.31601589e-029, 0.00000000e+000,\n",
              "        0.00000000e+000, 0.00000000e+000, 0.00000000e+000, 0.00000000e+000,\n",
              "        0.00000000e+000, 0.00000000e+000, 2.49324932e-013, 2.46342483e-031,\n",
              "        8.33165283e-028, 2.21405708e-021, 5.21896122e-001, 4.74774417e-002,\n",
              "        3.40947370e-017, 2.61523745e-023, 2.36818474e-005, 3.34197485e-240,\n",
              "        6.79435157e-056, 3.78769494e-167, 7.60741460e-197, 1.59923565e-078,\n",
              "        9.61584776e-083, 6.03217606e-226, 4.49082503e-013, 1.89423063e-066,\n",
              "        1.68541421e-015, 1.98370309e-195, 7.03652139e-059, 1.21790629e-087,\n",
              "        3.81226865e-090, 3.29426750e-313, 4.97878496e-088, 8.38845559e-072,\n",
              "        1.22191983e-148, 6.57415929e-091, 1.29591473e-028, 7.05307479e-002,\n",
              "        8.92127242e-002, 4.36722945e-211, 7.44347533e-005, 8.80093240e-187,\n",
              "        1.58236872e-078, 2.34304705e-077, 1.39544107e-004, 1.34919194e-025,\n",
              "        1.42943123e-021, 8.77656528e-182, 4.05824506e-246, 0.00000000e+000,\n",
              "        1.96236522e-095, 5.09664154e-004, 5.24676540e-188, 2.71787601e-101,\n",
              "        3.50396884e-063, 4.61556766e-137, 3.17723816e-225, 5.42649631e-117,\n",
              "        1.90511290e-001, 5.63669555e-048, 6.02126507e-065, 4.17736472e-084,\n",
              "        4.95443070e-207, 4.91388019e-016, 8.73729204e-106, 1.85273435e-021,\n",
              "        3.63698560e-066, 2.07904605e-059, 5.47643908e-022, 2.99548607e-039,\n",
              "        4.40303413e-207, 7.94171739e-217, 5.45660760e-008, 1.52097035e-030,\n",
              "        7.46661121e-009, 2.02371108e-024, 6.13473295e-007, 4.75484896e-070,\n",
              "        2.97717103e-281, 0.00000000e+000, 2.71902931e-183, 8.76105798e-074,\n",
              "        5.66210915e-206, 3.94690567e-190, 0.00000000e+000, 1.87101882e-058,\n",
              "        1.58039213e-070, 1.43328759e-011, 9.16121558e-173, 9.44362421e-050,\n",
              "        1.88152933e-263, 1.16996730e-250, 2.48204687e-156, 6.02610548e-195,\n",
              "        0.00000000e+000, 2.14026239e-035, 1.08337624e-010, 2.36392538e-196,\n",
              "        2.53910802e-199, 2.42027488e-022, 3.47903511e-263, 0.00000000e+000,\n",
              "        0.00000000e+000, 0.00000000e+000, 1.38922140e-062, 1.27249249e-171,\n",
              "        5.77953964e-003, 6.83119735e-006, 4.39261287e-004, 4.88400796e-001,\n",
              "        1.28557288e-012, 1.71313800e-005, 6.47037879e-006, 4.82089794e-005,\n",
              "        6.19075114e-055, 6.98242650e-008, 2.80176326e-001, 4.55836015e-016,\n",
              "        1.95720854e-136, 2.30932568e-018, 5.05113640e-047, 7.68421777e-022,\n",
              "        2.68320360e-013, 4.83736799e-069, 4.31718112e-294, 7.07643024e-026,\n",
              "        0.00000000e+000]))"
            ]
          },
          "metadata": {},
          "execution_count": 39
        }
      ]
    },
    {
      "cell_type": "code",
      "source": [
        "from sklearn.linear_model import RidgeCV\n",
        "\n",
        "ridge_reg = RidgeCV(alphas=[0.001, 0.01, 0.1, 0.3, 0.7, 1, 10, 50, 100])\n",
        "\n",
        "ridge_reg.fit(X_train, y_train)"
      ],
      "metadata": {
        "colab": {
          "base_uri": "https://localhost:8080/"
        },
        "id": "gIVLLRgzmCaI",
        "outputId": "01d3cf3d-1641-46d3-c89a-36b354e6082a"
      },
      "execution_count": null,
      "outputs": [
        {
          "output_type": "execute_result",
          "data": {
            "text/plain": [
              "RidgeCV(alphas=array([1.e-03, 1.e-02, 1.e-01, 3.e-01, 7.e-01, 1.e+00, 1.e+01, 5.e+01,\n",
              "       1.e+02]))"
            ]
          },
          "metadata": {},
          "execution_count": 43
        }
      ]
    },
    {
      "cell_type": "code",
      "source": [
        "print(ridge_reg.alpha_)\n",
        "print(ridge_reg.score(X_train, y_train))\n",
        "print(ridge_reg.score(X_test, y_test))"
      ],
      "metadata": {
        "colab": {
          "base_uri": "https://localhost:8080/"
        },
        "id": "l0JzUJfhm0da",
        "outputId": "5277008c-b66a-4371-bca1-b6662c560606"
      },
      "execution_count": null,
      "outputs": [
        {
          "output_type": "stream",
          "name": "stdout",
          "text": [
            "50.0\n",
            "0.5294094589242764\n",
            "0.5409115690027483\n"
          ]
        }
      ]
    },
    {
      "cell_type": "code",
      "source": [
        "from sklearn.linear_model import LassoCV\n",
        "model_lasso = LassoCV(cv=10)\n",
        "model_lasso.fit(X_train, y_train)"
      ],
      "metadata": {
        "colab": {
          "base_uri": "https://localhost:8080/"
        },
        "id": "mPzDRu68nZVN",
        "outputId": "d9efdb2d-e34e-419e-eb58-63a1b3ca305e"
      },
      "execution_count": null,
      "outputs": [
        {
          "output_type": "execute_result",
          "data": {
            "text/plain": [
              "LassoCV(cv=10)"
            ]
          },
          "metadata": {},
          "execution_count": 45
        }
      ]
    },
    {
      "cell_type": "code",
      "source": [
        "print(model_lasso.score(X_train, y_train))\n",
        "print(model_lasso.score(X_test, y_test))"
      ],
      "metadata": {
        "colab": {
          "base_uri": "https://localhost:8080/"
        },
        "id": "KId3i7Ignvtj",
        "outputId": "a80e2566-e926-49dd-df7f-c8c4441a1d4e"
      },
      "execution_count": null,
      "outputs": [
        {
          "output_type": "stream",
          "name": "stdout",
          "text": [
            "0.521419815759032\n",
            "0.5342465664380286\n"
          ]
        }
      ]
    }
  ],
  "metadata": {
    "colab": {
      "provenance": [],
      "authorship_tag": "ABX9TyOXo7NBPaw8dM8/IEmTyu23",
      "include_colab_link": true
    },
    "kernelspec": {
      "display_name": "Python 3",
      "name": "python3"
    },
    "language_info": {
      "name": "python"
    }
  },
  "nbformat": 4,
  "nbformat_minor": 0
}