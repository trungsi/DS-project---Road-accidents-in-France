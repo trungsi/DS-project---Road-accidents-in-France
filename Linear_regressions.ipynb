{
  "cells": [
    {
      "cell_type": "markdown",
      "metadata": {
        "id": "view-in-github",
        "colab_type": "text"
      },
      "source": [
        "<a href=\"https://colab.research.google.com/github/trungsi/DS-project---Road-accidents-in-France/blob/master/Linear_regressions.ipynb\" target=\"_parent\"><img src=\"https://colab.research.google.com/assets/colab-badge.svg\" alt=\"Open In Colab\"/></a>"
      ]
    },
    {
      "cell_type": "code",
      "execution_count": 38,
      "metadata": {
        "colab": {
          "base_uri": "https://localhost:8080/"
        },
        "id": "OYGWy51USaXU",
        "outputId": "eb1fa57f-6148-4c76-a604-6f85eca7dc65"
      },
      "outputs": [
        {
          "output_type": "stream",
          "name": "stdout",
          "text": [
            "Drive already mounted at /content/drive; to attempt to forcibly remount, call drive.mount(\"/content/drive\", force_remount=True).\n"
          ]
        },
        {
          "output_type": "stream",
          "name": "stderr",
          "text": [
            "<ipython-input-38-4b98f2bad7af>:6: DtypeWarning: Columns (5,11,13,14,15) have mixed types. Specify dtype option on import or set low_memory=False.\n",
            "  df = pd.read_csv(f, index_col=0)\n"
          ]
        },
        {
          "output_type": "stream",
          "name": "stdout",
          "text": [
            "<class 'pandas.core.frame.DataFrame'>\n",
            "Int64Index: 1034545 entries, 0 to 1034544\n",
            "Data columns (total 24 columns):\n",
            " #   Column      Non-Null Count    Dtype  \n",
            "---  ------      --------------    -----  \n",
            " 0   Num_Acc     1034545 non-null  int64  \n",
            " 1   an          1034545 non-null  int64  \n",
            " 2   mois        1034545 non-null  int64  \n",
            " 3   jour        1034545 non-null  int64  \n",
            " 4   hrmn        1034545 non-null  object \n",
            " 5   lum         1034545 non-null  int64  \n",
            " 6   agg         1034545 non-null  int64  \n",
            " 7   int         1034545 non-null  int64  \n",
            " 8   atm         1034472 non-null  float64\n",
            " 9   col         1034526 non-null  float64\n",
            " 10  com         1034545 non-null  object \n",
            " 11  adr         908057 non-null   object \n",
            " 12  gps         453015 non-null   object \n",
            " 13  lat         607560 non-null   object \n",
            " 14  long        607556 non-null   object \n",
            " 15  dep         1034545 non-null  object \n",
            " 16  grav_mean   1034545 non-null  float64\n",
            " 17  grav_total  1034545 non-null  int64  \n",
            " 18  nb_usagers  1034545 non-null  int64  \n",
            " 19  date        1034545 non-null  object \n",
            " 20  nb_jour     1034545 non-null  int64  \n",
            " 21  nb_semaine  1034545 non-null  int64  \n",
            " 22  surf        1032621 non-null  float64\n",
            " 23  vma         163102 non-null   float64\n",
            "dtypes: float64(5), int64(11), object(8)\n",
            "memory usage: 197.3+ MB\n"
          ]
        }
      ],
      "source": [
        "import pandas as pd\n",
        "from google.colab import drive\n",
        "drive.mount('/content/drive')\n",
        "\n",
        "with open('/content/drive/My Drive/DataScience project/Road accidents - model.csv', 'r', encoding='ISO-8859-1') as f:\n",
        "  df = pd.read_csv(f, index_col=0)\n",
        "\n",
        "df.info()"
      ]
    },
    {
      "cell_type": "code",
      "execution_count": 39,
      "metadata": {
        "colab": {
          "base_uri": "https://localhost:8080/"
        },
        "id": "bGFSMz09W6DK",
        "outputId": "f3ef31df-f467-44f5-a19a-c537cad05bf8"
      },
      "outputs": [
        {
          "output_type": "stream",
          "name": "stdout",
          "text": [
            "        Num_Acc  an  mois  jour  hrmn  lum  agg  int      atm      col  ...  \\\n",
            "0  200600000001   6     1     4  1545    1    2    2 1.000000 3.000000  ...   \n",
            "1  200600000002   6     1     6   805    2    2    2 4.000000 3.000000  ...   \n",
            "2  200600000003   6     1     9  1340    1    2    1 1.000000 6.000000  ...   \n",
            "3  200600000004   6     1    10  1625    2    2    1 8.000000 3.000000  ...   \n",
            "4  200600000005   6     1    24  1120    1    1    1 1.000000 2.000000  ...   \n",
            "\n",
            "  long dep grav_mean grav_total nb_usagers        date  nb_jour  nb_semaine  \\\n",
            "0  NaN  10  2.000000          6          3  2006-01-04        4           1   \n",
            "1  NaN  10  3.000000          6          2  2006-01-06        6           1   \n",
            "2  NaN  10  3.500000          7          2  2006-01-09        9           2   \n",
            "3  NaN  10  1.500000          3          2  2006-01-10       10           2   \n",
            "4  NaN  10  1.500000          3          2  2006-01-24       24           4   \n",
            "\n",
            "      surf vma  \n",
            "0 1.000000 NaN  \n",
            "1 2.000000 NaN  \n",
            "2 1.000000 NaN  \n",
            "3 2.000000 NaN  \n",
            "4 1.000000 NaN  \n",
            "\n",
            "[5 rows x 24 columns]\n",
            "count   1034545.000000\n",
            "mean          3.150756\n",
            "std           2.261146\n",
            "min           0.053571\n",
            "25%           1.500000\n",
            "50%           3.000000\n",
            "75%           3.500000\n",
            "max          13.000000\n",
            "Name: grav_mean, dtype: float64\n"
          ]
        }
      ],
      "source": [
        "# to show full float values instead of exponential format\n",
        "pd.set_option('float_format', '{:f}'.format)\n",
        "print(df.head())\n",
        "print(df.grav_mean.describe())"
      ]
    },
    {
      "cell_type": "code",
      "execution_count": 40,
      "metadata": {
        "colab": {
          "base_uri": "https://localhost:8080/",
          "height": 467
        },
        "id": "6rUAgTbXYGCp",
        "outputId": "18e37448-55db-47f4-b89c-b6ba568bb2c2"
      },
      "outputs": [
        {
          "output_type": "execute_result",
          "data": {
            "text/plain": [
              "<Axes: xlabel='grav_mean', ylabel='Count'>"
            ]
          },
          "metadata": {},
          "execution_count": 40
        },
        {
          "output_type": "display_data",
          "data": {
            "text/plain": [
              "<Figure size 640x480 with 1 Axes>"
            ],
            "image/png": "[encoded data removed]"
          },
          "metadata": {}
        }
      ],
      "source": [
        "%matplotlib inline\n",
        "import matplotlib.pyplot as plt\n",
        "import seaborn as sns\n",
        "\n",
        "#plt.hist(df.grav_mean);\n",
        "sns.histplot(df, x='grav_mean', bins=12)"
      ]
    },
    {
      "cell_type": "markdown",
      "source": [
        "# mean gravity varies from 0 to 13 with mean around 3 and majority (75%) are less than 4\n",
        "\n",
        "# Data is skewed\n",
        "\n",
        "# It may be difficult to detect outlier.\n"
      ],
      "metadata": {
        "id": "ZvmqNpDDOVRv"
      }
    },
    {
      "cell_type": "markdown",
      "source": [
        "# As first attempt, take hypothese that time and geographic location have not (important) impact on accidents (number and gravity) \n",
        "\n",
        "# Remove columns not useful for the model\n"
      ],
      "metadata": {
        "id": "F3RAUNbHj8Ew"
      }
    },
    {
      "cell_type": "code",
      "source": [
        "df = df.drop(columns=['Num_Acc', 'an', 'mois', 'jour', 'hrmn', 'adr', 'gps', 'lat', 'long', 'com', 'grav_total', 'date', 'nb_jour', 'nb_semaine', 'vma'])\n",
        "df = df.dropna()\n",
        "df.info()"
      ],
      "metadata": {
        "id": "Le7pSRofj8JH",
        "colab": {
          "base_uri": "https://localhost:8080/"
        },
        "outputId": "5f3c863e-eb02-4458-9cee-7c4718324b0e"
      },
      "execution_count": 41,
      "outputs": [
        {
          "output_type": "stream",
          "name": "stdout",
          "text": [
            "<class 'pandas.core.frame.DataFrame'>\n",
            "Int64Index: 1032546 entries, 0 to 1034544\n",
            "Data columns (total 9 columns):\n",
            " #   Column      Non-Null Count    Dtype  \n",
            "---  ------      --------------    -----  \n",
            " 0   lum         1032546 non-null  int64  \n",
            " 1   agg         1032546 non-null  int64  \n",
            " 2   int         1032546 non-null  int64  \n",
            " 3   atm         1032546 non-null  float64\n",
            " 4   col         1032546 non-null  float64\n",
            " 5   dep         1032546 non-null  object \n",
            " 6   grav_mean   1032546 non-null  float64\n",
            " 7   nb_usagers  1032546 non-null  int64  \n",
            " 8   surf        1032546 non-null  float64\n",
            "dtypes: float64(4), int64(4), object(1)\n",
            "memory usage: 78.8+ MB\n"
          ]
        }
      ]
    },
    {
      "cell_type": "code",
      "source": [
        "import seaborn as sns\n",
        "\n",
        "plt.figure(figsize=(13,13))\n",
        "sns.heatmap(df.corr(),  annot=True, cmap=\"RdBu_r\", center =0);"
      ],
      "metadata": {
        "colab": {
          "base_uri": "https://localhost:8080/",
          "height": 1000
        },
        "id": "BjqzUmaKdV_H",
        "outputId": "82a54fcd-fdf1-459c-cea7-66e93f12880a"
      },
      "execution_count": 42,
      "outputs": [
        {
          "output_type": "stream",
          "name": "stderr",
          "text": [
            "<ipython-input-42-57af2c02986e>:4: FutureWarning: The default value of numeric_only in DataFrame.corr is deprecated. In a future version, it will default to False. Select only valid columns or specify the value of numeric_only to silence this warning.\n",
            "  sns.heatmap(df.corr(),  annot=True, cmap=\"RdBu_r\", center =0);\n"
          ]
        },
        {
          "output_type": "display_data",
          "data": {
            "text/plain": [
              "<Figure size 1300x1300 with 2 Axes>"
            ],
            "image/png": "[encoded data removed]"
          },
          "metadata": {}
        }
      ]
    },
    {
      "cell_type": "markdown",
      "source": [
        "# Number of usagers is highly influent on gravity. \n",
        "# The Location (agglomeration or hors agglomeration) is the second most important feature. \n",
        "# Collision type comes next as the third important feature.\n",
        "# All other features are not important. Can they be excluded from the model ?"
      ],
      "metadata": {
        "id": "JyWXgkjNgGIv"
      }
    },
    {
      "cell_type": "code",
      "execution_count": 43,
      "metadata": {
        "colab": {
          "base_uri": "https://localhost:8080/"
        },
        "id": "vgGC7Ct7ZiqX",
        "outputId": "bc5ded63-5969-456e-ccf5-732bdf050849"
      },
      "outputs": [
        {
          "output_type": "stream",
          "name": "stdout",
          "text": [
            "<class 'pandas.core.frame.DataFrame'>\n",
            "Int64Index: 1032546 entries, 0 to 1034544\n",
            "Data columns (total 9 columns):\n",
            " #   Column      Non-Null Count    Dtype  \n",
            "---  ------      --------------    -----  \n",
            " 0   lum         1032546 non-null  object \n",
            " 1   agg         1032546 non-null  object \n",
            " 2   int         1032546 non-null  object \n",
            " 3   atm         1032546 non-null  object \n",
            " 4   col         1032546 non-null  object \n",
            " 5   dep         1032546 non-null  object \n",
            " 6   grav_mean   1032546 non-null  float64\n",
            " 7   nb_usagers  1032546 non-null  int64  \n",
            " 8   surf        1032546 non-null  object \n",
            "dtypes: float64(1), int64(1), object(7)\n",
            "memory usage: 78.8+ MB\n"
          ]
        }
      ],
      "source": [
        "# convert categorical variables which are currently encoded as numeric to string type\n",
        "# only nb_usagers is numeric\n",
        "df = df.astype({'lum' : 'str', 'agg': 'str', 'int': 'str', 'atm': 'str', 'col': 'str', 'surf': 'str'})\n",
        "df.info()"
      ]
    },
    {
      "cell_type": "markdown",
      "source": [
        "# convert categorical variables to numeric using dummy\n",
        "\n",
        "# the dep (department) columns will be transformed into about 100 new columns. \n",
        "\n",
        "# That's why we remove comm (communes) column from the model as it has > 30K different values. Including this column will require extra processing.\n",
        "\n",
        "# We'll keep the model simple for the moment."
      ],
      "metadata": {
        "id": "qagh5W4gqgms"
      }
    },
    {
      "cell_type": "code",
      "execution_count": 44,
      "metadata": {
        "id": "EwDD-B5cgDyh",
        "colab": {
          "base_uri": "https://localhost:8080/"
        },
        "outputId": "2e476a6c-2718-4655-bca2-6adceabe2fdf"
      },
      "outputs": [
        {
          "output_type": "stream",
          "name": "stdout",
          "text": [
            "<class 'pandas.core.frame.DataFrame'>\n",
            "Int64Index: 1032546 entries, 0 to 1034544\n",
            "Columns: 158 entries, grav_mean to surf_9.0\n",
            "dtypes: float64(1), int64(1), uint8(156)\n",
            "memory usage: 177.2 MB\n"
          ]
        }
      ],
      "source": [
        "df = pd.get_dummies(df)\n",
        "df.info()"
      ]
    },
    {
      "cell_type": "code",
      "source": [
        "df.describe()"
      ],
      "metadata": {
        "colab": {
          "base_uri": "https://localhost:8080/",
          "height": 394
        },
        "id": "OtxriVOSki4a",
        "outputId": "4973cdc8-d872-4644-e0c8-e71a0024f20b"
      },
      "execution_count": 45,
      "outputs": [
        {
          "output_type": "execute_result",
          "data": {
            "text/plain": [
              "           grav_mean     nb_usagers         lum_-1          lum_1  \\\n",
              "count 1032546.000000 1032546.000000 1032546.000000 1032546.000000   \n",
              "mean        3.150566       2.234819       0.000005       0.682726   \n",
              "std         2.261542       1.184743       0.002201       0.465415   \n",
              "min         0.053571       1.000000       0.000000       0.000000   \n",
              "25%         1.500000       2.000000       0.000000       0.000000   \n",
              "50%         3.000000       2.000000       0.000000       1.000000   \n",
              "75%         3.500000       2.000000       0.000000       1.000000   \n",
              "max        13.000000      86.000000       1.000000       1.000000   \n",
              "\n",
              "               lum_2          lum_3          lum_4          lum_5  \\\n",
              "count 1032546.000000 1032546.000000 1032546.000000 1032546.000000   \n",
              "mean        0.060669       0.082748       0.008494       0.165358   \n",
              "std         0.238723       0.275501       0.091768       0.371504   \n",
              "min         0.000000       0.000000       0.000000       0.000000   \n",
              "25%         0.000000       0.000000       0.000000       0.000000   \n",
              "50%         0.000000       0.000000       0.000000       0.000000   \n",
              "75%         0.000000       0.000000       0.000000       0.000000   \n",
              "max         1.000000       1.000000       1.000000       1.000000   \n",
              "\n",
              "               agg_1          agg_2  ...       surf_0.0       surf_1.0  \\\n",
              "count 1032546.000000 1032546.000000  ... 1032546.000000 1032546.000000   \n",
              "mean        0.326904       0.673096  ...       0.026340       0.780518   \n",
              "std         0.469082       0.469082  ...       0.160144       0.413896   \n",
              "min         0.000000       0.000000  ...       0.000000       0.000000   \n",
              "25%         0.000000       0.000000  ...       0.000000       1.000000   \n",
              "50%         0.000000       1.000000  ...       0.000000       1.000000   \n",
              "75%         1.000000       1.000000  ...       0.000000       1.000000   \n",
              "max         1.000000       1.000000  ...       1.000000       1.000000   \n",
              "\n",
              "            surf_2.0       surf_3.0       surf_4.0       surf_5.0  \\\n",
              "count 1032546.000000 1032546.000000 1032546.000000 1032546.000000   \n",
              "mean        0.174390       0.001480       0.000516       0.002585   \n",
              "std         0.379445       0.038440       0.022714       0.050776   \n",
              "min         0.000000       0.000000       0.000000       0.000000   \n",
              "25%         0.000000       0.000000       0.000000       0.000000   \n",
              "50%         0.000000       0.000000       0.000000       0.000000   \n",
              "75%         0.000000       0.000000       0.000000       0.000000   \n",
              "max         1.000000       1.000000       1.000000       1.000000   \n",
              "\n",
              "            surf_6.0       surf_7.0       surf_8.0       surf_9.0  \n",
              "count 1032546.000000 1032546.000000 1032546.000000 1032546.000000  \n",
              "mean        0.000601       0.005796       0.002351       0.005368  \n",
              "std         0.024517       0.075913       0.048435       0.073072  \n",
              "min         0.000000       0.000000       0.000000       0.000000  \n",
              "25%         0.000000       0.000000       0.000000       0.000000  \n",
              "50%         0.000000       0.000000       0.000000       0.000000  \n",
              "75%         0.000000       0.000000       0.000000       0.000000  \n",
              "max         1.000000       1.000000       1.000000       1.000000  \n",
              "\n",
              "[8 rows x 158 columns]"
            ],
            "text/html": [
              "\n",
              "  <div id=\"df-09efcde0-c091-474e-b813-b0ad68b20e11\">\n",
              "    <div class=\"colab-df-container\">\n",
              "      <div>\n",
              "<style scoped>\n",
              "    .dataframe tbody tr th:only-of-type {\n",
              "        vertical-align: middle;\n",
              "    }\n",
              "\n",
              "    .dataframe tbody tr th {\n",
              "        vertical-align: top;\n",
              "    }\n",
              "\n",
              "    .dataframe thead th {\n",
              "        text-align: right;\n",
              "    }\n",
              "</style>\n",
              "<table border=\"1\" class=\"dataframe\">\n",
              "  <thead>\n",
              "    <tr style=\"text-align: right;\">\n",
              "      <th></th>\n",
              "      <th>grav_mean</th>\n",
              "      <th>nb_usagers</th>\n",
              "      <th>lum_-1</th>\n",
              "      <th>lum_1</th>\n",
              "      <th>lum_2</th>\n",
              "      <th>lum_3</th>\n",
              "      <th>lum_4</th>\n",
              "      <th>lum_5</th>\n",
              "      <th>agg_1</th>\n",
              "      <th>agg_2</th>\n",
              "      <th>...</th>\n",
              "      <th>surf_0.0</th>\n",
              "      <th>surf_1.0</th>\n",
              "      <th>surf_2.0</th>\n",
              "      <th>surf_3.0</th>\n",
              "      <th>surf_4.0</th>\n",
              "      <th>surf_5.0</th>\n",
              "      <th>surf_6.0</th>\n",
              "      <th>surf_7.0</th>\n",
              "      <th>surf_8.0</th>\n",
              "      <th>surf_9.0</th>\n",
              "    </tr>\n",
              "  </thead>\n",
              "  <tbody>\n",
              "    <tr>\n",
              "      <th>count</th>\n",
              "      <td>1032546.000000</td>\n",
              "      <td>1032546.000000</td>\n",
              "      <td>1032546.000000</td>\n",
              "      <td>1032546.000000</td>\n",
              "      <td>1032546.000000</td>\n",
              "      <td>1032546.000000</td>\n",
              "      <td>1032546.000000</td>\n",
              "      <td>1032546.000000</td>\n",
              "      <td>1032546.000000</td>\n",
              "      <td>1032546.000000</td>\n",
              "      <td>...</td>\n",
              "      <td>1032546.000000</td>\n",
              "      <td>1032546.000000</td>\n",
              "      <td>1032546.000000</td>\n",
              "      <td>1032546.000000</td>\n",
              "      <td>1032546.000000</td>\n",
              "      <td>1032546.000000</td>\n",
              "      <td>1032546.000000</td>\n",
              "      <td>1032546.000000</td>\n",
              "      <td>1032546.000000</td>\n",
              "      <td>1032546.000000</td>\n",
              "    </tr>\n",
              "    <tr>\n",
              "      <th>mean</th>\n",
              "      <td>3.150566</td>\n",
              "      <td>2.234819</td>\n",
              "      <td>0.000005</td>\n",
              "      <td>0.682726</td>\n",
              "      <td>0.060669</td>\n",
              "      <td>0.082748</td>\n",
              "      <td>0.008494</td>\n",
              "      <td>0.165358</td>\n",
              "      <td>0.326904</td>\n",
              "      <td>0.673096</td>\n",
              "      <td>...</td>\n",
              "      <td>0.026340</td>\n",
              "      <td>0.780518</td>\n",
              "      <td>0.174390</td>\n",
              "      <td>0.001480</td>\n",
              "      <td>0.000516</td>\n",
              "      <td>0.002585</td>\n",
              "      <td>0.000601</td>\n",
              "      <td>0.005796</td>\n",
              "      <td>0.002351</td>\n",
              "      <td>0.005368</td>\n",
              "    </tr>\n",
              "    <tr>\n",
              "      <th>std</th>\n",
              "      <td>2.261542</td>\n",
              "      <td>1.184743</td>\n",
              "      <td>0.002201</td>\n",
              "      <td>0.465415</td>\n",
              "      <td>0.238723</td>\n",
              "      <td>0.275501</td>\n",
              "      <td>0.091768</td>\n",
              "      <td>0.371504</td>\n",
              "      <td>0.469082</td>\n",
              "      <td>0.469082</td>\n",
              "      <td>...</td>\n",
              "      <td>0.160144</td>\n",
              "      <td>0.413896</td>\n",
              "      <td>0.379445</td>\n",
              "      <td>0.038440</td>\n",
              "      <td>0.022714</td>\n",
              "      <td>0.050776</td>\n",
              "      <td>0.024517</td>\n",
              "      <td>0.075913</td>\n",
              "      <td>0.048435</td>\n",
              "      <td>0.073072</td>\n",
              "    </tr>\n",
              "    <tr>\n",
              "      <th>min</th>\n",
              "      <td>0.053571</td>\n",
              "      <td>1.000000</td>\n",
              "      <td>0.000000</td>\n",
              "      <td>0.000000</td>\n",
              "      <td>0.000000</td>\n",
              "      <td>0.000000</td>\n",
              "      <td>0.000000</td>\n",
              "      <td>0.000000</td>\n",
              "      <td>0.000000</td>\n",
              "      <td>0.000000</td>\n",
              "      <td>...</td>\n",
              "      <td>0.000000</td>\n",
              "      <td>0.000000</td>\n",
              "      <td>0.000000</td>\n",
              "      <td>0.000000</td>\n",
              "      <td>0.000000</td>\n",
              "      <td>0.000000</td>\n",
              "      <td>0.000000</td>\n",
              "      <td>0.000000</td>\n",
              "      <td>0.000000</td>\n",
              "      <td>0.000000</td>\n",
              "    </tr>\n",
              "    <tr>\n",
              "      <th>25%</th>\n",
              "      <td>1.500000</td>\n",
              "      <td>2.000000</td>\n",
              "      <td>0.000000</td>\n",
              "      <td>0.000000</td>\n",
              "      <td>0.000000</td>\n",
              "      <td>0.000000</td>\n",
              "      <td>0.000000</td>\n",
              "      <td>0.000000</td>\n",
              "      <td>0.000000</td>\n",
              "      <td>0.000000</td>\n",
              "      <td>...</td>\n",
              "      <td>0.000000</td>\n",
              "      <td>1.000000</td>\n",
              "      <td>0.000000</td>\n",
              "      <td>0.000000</td>\n",
              "      <td>0.000000</td>\n",
              "      <td>0.000000</td>\n",
              "      <td>0.000000</td>\n",
              "      <td>0.000000</td>\n",
              "      <td>0.000000</td>\n",
              "      <td>0.000000</td>\n",
              "    </tr>\n",
              "    <tr>\n",
              "      <th>50%</th>\n",
              "      <td>3.000000</td>\n",
              "      <td>2.000000</td>\n",
              "      <td>0.000000</td>\n",
              "      <td>1.000000</td>\n",
              "      <td>0.000000</td>\n",
              "      <td>0.000000</td>\n",
              "      <td>0.000000</td>\n",
              "      <td>0.000000</td>\n",
              "      <td>0.000000</td>\n",
              "      <td>1.000000</td>\n",
              "      <td>...</td>\n",
              "      <td>0.000000</td>\n",
              "      <td>1.000000</td>\n",
              "      <td>0.000000</td>\n",
              "      <td>0.000000</td>\n",
              "      <td>0.000000</td>\n",
              "      <td>0.000000</td>\n",
              "      <td>0.000000</td>\n",
              "      <td>0.000000</td>\n",
              "      <td>0.000000</td>\n",
              "      <td>0.000000</td>\n",
              "    </tr>\n",
              "    <tr>\n",
              "      <th>75%</th>\n",
              "      <td>3.500000</td>\n",
              "      <td>2.000000</td>\n",
              "      <td>0.000000</td>\n",
              "      <td>1.000000</td>\n",
              "      <td>0.000000</td>\n",
              "      <td>0.000000</td>\n",
              "      <td>0.000000</td>\n",
              "      <td>0.000000</td>\n",
              "      <td>1.000000</td>\n",
              "      <td>1.000000</td>\n",
              "      <td>...</td>\n",
              "      <td>0.000000</td>\n",
              "      <td>1.000000</td>\n",
              "      <td>0.000000</td>\n",
              "      <td>0.000000</td>\n",
              "      <td>0.000000</td>\n",
              "      <td>0.000000</td>\n",
              "      <td>0.000000</td>\n",
              "      <td>0.000000</td>\n",
              "      <td>0.000000</td>\n",
              "      <td>0.000000</td>\n",
              "    </tr>\n",
              "    <tr>\n",
              "      <th>max</th>\n",
              "      <td>13.000000</td>\n",
              "      <td>86.000000</td>\n",
              "      <td>1.000000</td>\n",
              "      <td>1.000000</td>\n",
              "      <td>1.000000</td>\n",
              "      <td>1.000000</td>\n",
              "      <td>1.000000</td>\n",
              "      <td>1.000000</td>\n",
              "      <td>1.000000</td>\n",
              "      <td>1.000000</td>\n",
              "      <td>...</td>\n",
              "      <td>1.000000</td>\n",
              "      <td>1.000000</td>\n",
              "      <td>1.000000</td>\n",
              "      <td>1.000000</td>\n",
              "      <td>1.000000</td>\n",
              "      <td>1.000000</td>\n",
              "      <td>1.000000</td>\n",
              "      <td>1.000000</td>\n",
              "      <td>1.000000</td>\n",
              "      <td>1.000000</td>\n",
              "    </tr>\n",
              "  </tbody>\n",
              "</table>\n",
              "<p>8 rows × 158 columns</p>\n",
              "</div>\n",
              "      <button class=\"colab-df-convert\" onclick=\"convertToInteractive('df-09efcde0-c091-474e-b813-b0ad68b20e11')\"\n",
              "              title=\"Convert this dataframe to an interactive table.\"\n",
              "              style=\"display:none;\">\n",
              "        \n",
              "  <svg xmlns=\"http://www.w3.org/2000/svg\" height=\"24px\"viewBox=\"0 0 24 24\"\n",
              "       width=\"24px\">\n",
              "    <path d=\"M0 0h24v24H0V0z\" fill=\"none\"/>\n",
              "    <path d=\"M18.56 5.44l.94 2.06.94-2.06 2.06-.94-2.06-.94-.94-2.06-.94 2.06-2.06.94zm-11 1L8.5 8.5l.94-2.06 2.06-.94-2.06-.94L8.5 2.5l-.94 2.06-2.06.94zm10 10l.94 2.06.94-2.06 2.06-.94-2.06-.94-.94-2.06-.94 2.06-2.06.94z\"/><path d=\"M17.41 7.96l-1.37-1.37c-.4-.4-.92-.59-1.43-.59-.52 0-1.04.2-1.43.59L10.3 9.45l-7.72 7.72c-.78.78-.78 2.05 0 2.83L4 21.41c.39.39.9.59 1.41.59.51 0 1.02-.2 1.41-.59l7.78-7.78 2.81-2.81c.8-.78.8-2.07 0-2.86zM5.41 20L4 18.59l7.72-7.72 1.47 1.35L5.41 20z\"/>\n",
              "  </svg>\n",
              "      </button>\n",
              "      \n",
              "  <style>\n",
              "    .colab-df-container {\n",
              "      display:flex;\n",
              "      flex-wrap:wrap;\n",
              "      gap: 12px;\n",
              "    }\n",
              "\n",
              "    .colab-df-convert {\n",
              "      background-color: #E8F0FE;\n",
              "      border: none;\n",
              "      border-radius: 50%;\n",
              "      cursor: pointer;\n",
              "      display: none;\n",
              "      fill: #1967D2;\n",
              "      height: 32px;\n",
              "      padding: 0 0 0 0;\n",
              "      width: 32px;\n",
              "    }\n",
              "\n",
              "    .colab-df-convert:hover {\n",
              "      background-color: #E2EBFA;\n",
              "      box-shadow: 0px 1px 2px rgba(60, 64, 67, 0.3), 0px 1px 3px 1px rgba(60, 64, 67, 0.15);\n",
              "      fill: #174EA6;\n",
              "    }\n",
              "\n",
              "    [theme=dark] .colab-df-convert {\n",
              "      background-color: #3B4455;\n",
              "      fill: #D2E3FC;\n",
              "    }\n",
              "\n",
              "    [theme=dark] .colab-df-convert:hover {\n",
              "      background-color: #434B5C;\n",
              "      box-shadow: 0px 1px 3px 1px rgba(0, 0, 0, 0.15);\n",
              "      filter: drop-shadow(0px 1px 2px rgba(0, 0, 0, 0.3));\n",
              "      fill: #FFFFFF;\n",
              "    }\n",
              "  </style>\n",
              "\n",
              "      <script>\n",
              "        const buttonEl =\n",
              "          document.querySelector('#df-09efcde0-c091-474e-b813-b0ad68b20e11 button.colab-df-convert');\n",
              "        buttonEl.style.display =\n",
              "          google.colab.kernel.accessAllowed ? 'block' : 'none';\n",
              "\n",
              "        async function convertToInteractive(key) {\n",
              "          const element = document.querySelector('#df-09efcde0-c091-474e-b813-b0ad68b20e11');\n",
              "          const dataTable =\n",
              "            await google.colab.kernel.invokeFunction('convertToInteractive',\n",
              "                                                     [key], {});\n",
              "          if (!dataTable) return;\n",
              "\n",
              "          const docLinkHtml = 'Like what you see? Visit the ' +\n",
              "            '<a target=\"_blank\" href=https://colab.research.google.com/notebooks/data_table.ipynb>data table notebook</a>'\n",
              "            + ' to learn more about interactive tables.';\n",
              "          element.innerHTML = '';\n",
              "          dataTable['output_type'] = 'display_data';\n",
              "          await google.colab.output.renderOutput(dataTable, element);\n",
              "          const docLink = document.createElement('div');\n",
              "          docLink.innerHTML = docLinkHtml;\n",
              "          element.appendChild(docLink);\n",
              "        }\n",
              "      </script>\n",
              "    </div>\n",
              "  </div>\n",
              "  "
            ]
          },
          "metadata": {},
          "execution_count": 45
        }
      ]
    },
    {
      "cell_type": "markdown",
      "source": [
        "# separation of features and target variables"
      ],
      "metadata": {
        "id": "ppit8DOUrel0"
      }
    },
    {
      "cell_type": "code",
      "source": [
        "target = df.grav_mean\n",
        "feats = df.drop(columns=['grav_mean'])\n"
      ],
      "metadata": {
        "id": "JqmpN-Pwkn6p"
      },
      "execution_count": 46,
      "outputs": []
    },
    {
      "cell_type": "code",
      "source": [
        "# try to scale data\n",
        "\n",
        "from sklearn.preprocessing import StandardScaler\n",
        "\n",
        "scaler = StandardScaler()\n",
        "feats = pd.DataFrame(scaler.fit_transform(feats), columns=feats.columns, index=feats.index)\n",
        "feats.describe()"
      ],
      "metadata": {
        "colab": {
          "base_uri": "https://localhost:8080/",
          "height": 394
        },
        "id": "eFQ5HB8yvAeC",
        "outputId": "c2e17d73-4737-4071-8dbc-d7aede300d04"
      },
      "execution_count": 47,
      "outputs": [
        {
          "output_type": "execute_result",
          "data": {
            "text/plain": [
              "          nb_usagers         lum_-1          lum_1          lum_2  \\\n",
              "count 1032546.000000 1032546.000000 1032546.000000 1032546.000000   \n",
              "mean        0.000000      -0.000000       0.000000       0.000000   \n",
              "std         1.000000       1.000000       1.000000       1.000000   \n",
              "min        -1.042268      -0.002201      -1.466918      -0.254142   \n",
              "25%        -0.198202      -0.002201      -1.466918      -0.254142   \n",
              "50%        -0.198202      -0.002201       0.681701      -0.254142   \n",
              "75%        -0.198202      -0.002201       0.681701      -0.254142   \n",
              "max        70.703285     454.431733       0.681701       3.934814   \n",
              "\n",
              "               lum_3          lum_4          lum_5          agg_1  \\\n",
              "count 1032546.000000 1032546.000000 1032546.000000 1032546.000000   \n",
              "mean        0.000000      -0.000000      -0.000000      -0.000000   \n",
              "std         1.000000       1.000000       1.000000       1.000000   \n",
              "min        -0.300354      -0.092554      -0.445105      -0.696901   \n",
              "25%        -0.300354      -0.092554      -0.445105      -0.696901   \n",
              "50%        -0.300354      -0.092554      -0.445105      -0.696901   \n",
              "75%        -0.300354      -0.092554      -0.445105       1.434924   \n",
              "max         3.329399      10.804450       2.246659       1.434924   \n",
              "\n",
              "               agg_2         int_-1  ...       surf_0.0       surf_1.0  \\\n",
              "count 1032546.000000 1032546.000000  ... 1032546.000000 1032546.000000   \n",
              "mean        0.000000       0.000000  ...       0.000000       0.000000   \n",
              "std         1.000000       1.000000  ...       1.000000       1.000000   \n",
              "min        -1.434924      -0.000984  ...      -0.164476      -1.885786   \n",
              "25%        -1.434924      -0.000984  ...      -0.164476       0.530283   \n",
              "50%         0.696901      -0.000984  ...      -0.164476       0.530283   \n",
              "75%         0.696901      -0.000984  ...      -0.164476       0.530283   \n",
              "max         0.696901    1016.142214  ...       6.079921       0.530283   \n",
              "\n",
              "            surf_2.0       surf_3.0       surf_4.0       surf_5.0  \\\n",
              "count 1032546.000000 1032546.000000 1032546.000000 1032546.000000   \n",
              "mean       -0.000000      -0.000000      -0.000000       0.000000   \n",
              "std         1.000000       1.000000       1.000000       1.000000   \n",
              "min        -0.459593      -0.038497      -0.022726      -0.050907   \n",
              "25%        -0.459593      -0.038497      -0.022726      -0.050907   \n",
              "50%        -0.459593      -0.038497      -0.022726      -0.050907   \n",
              "75%        -0.459593      -0.038497      -0.022726      -0.050907   \n",
              "max         2.175836      25.975950      44.002665      19.643478   \n",
              "\n",
              "            surf_6.0       surf_7.0       surf_8.0       surf_9.0  \n",
              "count 1032546.000000 1032546.000000 1032546.000000 1032546.000000  \n",
              "mean       -0.000000      -0.000000      -0.000000      -0.000000  \n",
              "std         1.000000       1.000000       1.000000       1.000000  \n",
              "min        -0.024531      -0.076355      -0.048549      -0.073466  \n",
              "25%        -0.024531      -0.076355      -0.048549      -0.073466  \n",
              "50%        -0.024531      -0.076355      -0.048549      -0.073466  \n",
              "75%        -0.024531      -0.076355      -0.048549      -0.073466  \n",
              "max        40.764138      13.096652      20.597720      13.611733  \n",
              "\n",
              "[8 rows x 157 columns]"
            ],
            "text/html": [
              "\n",
              "  <div id=\"df-daa5bc0a-4cdb-4ec6-b027-4c37540e52f6\">\n",
              "    <div class=\"colab-df-container\">\n",
              "      <div>\n",
              "<style scoped>\n",
              "    .dataframe tbody tr th:only-of-type {\n",
              "        vertical-align: middle;\n",
              "    }\n",
              "\n",
              "    .dataframe tbody tr th {\n",
              "        vertical-align: top;\n",
              "    }\n",
              "\n",
              "    .dataframe thead th {\n",
              "        text-align: right;\n",
              "    }\n",
              "</style>\n",
              "<table border=\"1\" class=\"dataframe\">\n",
              "  <thead>\n",
              "    <tr style=\"text-align: right;\">\n",
              "      <th></th>\n",
              "      <th>nb_usagers</th>\n",
              "      <th>lum_-1</th>\n",
              "      <th>lum_1</th>\n",
              "      <th>lum_2</th>\n",
              "      <th>lum_3</th>\n",
              "      <th>lum_4</th>\n",
              "      <th>lum_5</th>\n",
              "      <th>agg_1</th>\n",
              "      <th>agg_2</th>\n",
              "      <th>int_-1</th>\n",
              "      <th>...</th>\n",
              "      <th>surf_0.0</th>\n",
              "      <th>surf_1.0</th>\n",
              "      <th>surf_2.0</th>\n",
              "      <th>surf_3.0</th>\n",
              "      <th>surf_4.0</th>\n",
              "      <th>surf_5.0</th>\n",
              "      <th>surf_6.0</th>\n",
              "      <th>surf_7.0</th>\n",
              "      <th>surf_8.0</th>\n",
              "      <th>surf_9.0</th>\n",
              "    </tr>\n",
              "  </thead>\n",
              "  <tbody>\n",
              "    <tr>\n",
              "      <th>count</th>\n",
              "      <td>1032546.000000</td>\n",
              "      <td>1032546.000000</td>\n",
              "      <td>1032546.000000</td>\n",
              "      <td>1032546.000000</td>\n",
              "      <td>1032546.000000</td>\n",
              "      <td>1032546.000000</td>\n",
              "      <td>1032546.000000</td>\n",
              "      <td>1032546.000000</td>\n",
              "      <td>1032546.000000</td>\n",
              "      <td>1032546.000000</td>\n",
              "      <td>...</td>\n",
              "      <td>1032546.000000</td>\n",
              "      <td>1032546.000000</td>\n",
              "      <td>1032546.000000</td>\n",
              "      <td>1032546.000000</td>\n",
              "      <td>1032546.000000</td>\n",
              "      <td>1032546.000000</td>\n",
              "      <td>1032546.000000</td>\n",
              "      <td>1032546.000000</td>\n",
              "      <td>1032546.000000</td>\n",
              "      <td>1032546.000000</td>\n",
              "    </tr>\n",
              "    <tr>\n",
              "      <th>mean</th>\n",
              "      <td>0.000000</td>\n",
              "      <td>-0.000000</td>\n",
              "      <td>0.000000</td>\n",
              "      <td>0.000000</td>\n",
              "      <td>0.000000</td>\n",
              "      <td>-0.000000</td>\n",
              "      <td>-0.000000</td>\n",
              "      <td>-0.000000</td>\n",
              "      <td>0.000000</td>\n",
              "      <td>0.000000</td>\n",
              "      <td>...</td>\n",
              "      <td>0.000000</td>\n",
              "      <td>0.000000</td>\n",
              "      <td>-0.000000</td>\n",
              "      <td>-0.000000</td>\n",
              "      <td>-0.000000</td>\n",
              "      <td>0.000000</td>\n",
              "      <td>-0.000000</td>\n",
              "      <td>-0.000000</td>\n",
              "      <td>-0.000000</td>\n",
              "      <td>-0.000000</td>\n",
              "    </tr>\n",
              "    <tr>\n",
              "      <th>std</th>\n",
              "      <td>1.000000</td>\n",
              "      <td>1.000000</td>\n",
              "      <td>1.000000</td>\n",
              "      <td>1.000000</td>\n",
              "      <td>1.000000</td>\n",
              "      <td>1.000000</td>\n",
              "      <td>1.000000</td>\n",
              "      <td>1.000000</td>\n",
              "      <td>1.000000</td>\n",
              "      <td>1.000000</td>\n",
              "      <td>...</td>\n",
              "      <td>1.000000</td>\n",
              "      <td>1.000000</td>\n",
              "      <td>1.000000</td>\n",
              "      <td>1.000000</td>\n",
              "      <td>1.000000</td>\n",
              "      <td>1.000000</td>\n",
              "      <td>1.000000</td>\n",
              "      <td>1.000000</td>\n",
              "      <td>1.000000</td>\n",
              "      <td>1.000000</td>\n",
              "    </tr>\n",
              "    <tr>\n",
              "      <th>min</th>\n",
              "      <td>-1.042268</td>\n",
              "      <td>-0.002201</td>\n",
              "      <td>-1.466918</td>\n",
              "      <td>-0.254142</td>\n",
              "      <td>-0.300354</td>\n",
              "      <td>-0.092554</td>\n",
              "      <td>-0.445105</td>\n",
              "      <td>-0.696901</td>\n",
              "      <td>-1.434924</td>\n",
              "      <td>-0.000984</td>\n",
              "      <td>...</td>\n",
              "      <td>-0.164476</td>\n",
              "      <td>-1.885786</td>\n",
              "      <td>-0.459593</td>\n",
              "      <td>-0.038497</td>\n",
              "      <td>-0.022726</td>\n",
              "      <td>-0.050907</td>\n",
              "      <td>-0.024531</td>\n",
              "      <td>-0.076355</td>\n",
              "      <td>-0.048549</td>\n",
              "      <td>-0.073466</td>\n",
              "    </tr>\n",
              "    <tr>\n",
              "      <th>25%</th>\n",
              "      <td>-0.198202</td>\n",
              "      <td>-0.002201</td>\n",
              "      <td>-1.466918</td>\n",
              "      <td>-0.254142</td>\n",
              "      <td>-0.300354</td>\n",
              "      <td>-0.092554</td>\n",
              "      <td>-0.445105</td>\n",
              "      <td>-0.696901</td>\n",
              "      <td>-1.434924</td>\n",
              "      <td>-0.000984</td>\n",
              "      <td>...</td>\n",
              "      <td>-0.164476</td>\n",
              "      <td>0.530283</td>\n",
              "      <td>-0.459593</td>\n",
              "      <td>-0.038497</td>\n",
              "      <td>-0.022726</td>\n",
              "      <td>-0.050907</td>\n",
              "      <td>-0.024531</td>\n",
              "      <td>-0.076355</td>\n",
              "      <td>-0.048549</td>\n",
              "      <td>-0.073466</td>\n",
              "    </tr>\n",
              "    <tr>\n",
              "      <th>50%</th>\n",
              "      <td>-0.198202</td>\n",
              "      <td>-0.002201</td>\n",
              "      <td>0.681701</td>\n",
              "      <td>-0.254142</td>\n",
              "      <td>-0.300354</td>\n",
              "      <td>-0.092554</td>\n",
              "      <td>-0.445105</td>\n",
              "      <td>-0.696901</td>\n",
              "      <td>0.696901</td>\n",
              "      <td>-0.000984</td>\n",
              "      <td>...</td>\n",
              "      <td>-0.164476</td>\n",
              "      <td>0.530283</td>\n",
              "      <td>-0.459593</td>\n",
              "      <td>-0.038497</td>\n",
              "      <td>-0.022726</td>\n",
              "      <td>-0.050907</td>\n",
              "      <td>-0.024531</td>\n",
              "      <td>-0.076355</td>\n",
              "      <td>-0.048549</td>\n",
              "      <td>-0.073466</td>\n",
              "    </tr>\n",
              "    <tr>\n",
              "      <th>75%</th>\n",
              "      <td>-0.198202</td>\n",
              "      <td>-0.002201</td>\n",
              "      <td>0.681701</td>\n",
              "      <td>-0.254142</td>\n",
              "      <td>-0.300354</td>\n",
              "      <td>-0.092554</td>\n",
              "      <td>-0.445105</td>\n",
              "      <td>1.434924</td>\n",
              "      <td>0.696901</td>\n",
              "      <td>-0.000984</td>\n",
              "      <td>...</td>\n",
              "      <td>-0.164476</td>\n",
              "      <td>0.530283</td>\n",
              "      <td>-0.459593</td>\n",
              "      <td>-0.038497</td>\n",
              "      <td>-0.022726</td>\n",
              "      <td>-0.050907</td>\n",
              "      <td>-0.024531</td>\n",
              "      <td>-0.076355</td>\n",
              "      <td>-0.048549</td>\n",
              "      <td>-0.073466</td>\n",
              "    </tr>\n",
              "    <tr>\n",
              "      <th>max</th>\n",
              "      <td>70.703285</td>\n",
              "      <td>454.431733</td>\n",
              "      <td>0.681701</td>\n",
              "      <td>3.934814</td>\n",
              "      <td>3.329399</td>\n",
              "      <td>10.804450</td>\n",
              "      <td>2.246659</td>\n",
              "      <td>1.434924</td>\n",
              "      <td>0.696901</td>\n",
              "      <td>1016.142214</td>\n",
              "      <td>...</td>\n",
              "      <td>6.079921</td>\n",
              "      <td>0.530283</td>\n",
              "      <td>2.175836</td>\n",
              "      <td>25.975950</td>\n",
              "      <td>44.002665</td>\n",
              "      <td>19.643478</td>\n",
              "      <td>40.764138</td>\n",
              "      <td>13.096652</td>\n",
              "      <td>20.597720</td>\n",
              "      <td>13.611733</td>\n",
              "    </tr>\n",
              "  </tbody>\n",
              "</table>\n",
              "<p>8 rows × 157 columns</p>\n",
              "</div>\n",
              "      <button class=\"colab-df-convert\" onclick=\"convertToInteractive('df-daa5bc0a-4cdb-4ec6-b027-4c37540e52f6')\"\n",
              "              title=\"Convert this dataframe to an interactive table.\"\n",
              "              style=\"display:none;\">\n",
              "        \n",
              "  <svg xmlns=\"http://www.w3.org/2000/svg\" height=\"24px\"viewBox=\"0 0 24 24\"\n",
              "       width=\"24px\">\n",
              "    <path d=\"M0 0h24v24H0V0z\" fill=\"none\"/>\n",
              "    <path d=\"M18.56 5.44l.94 2.06.94-2.06 2.06-.94-2.06-.94-.94-2.06-.94 2.06-2.06.94zm-11 1L8.5 8.5l.94-2.06 2.06-.94-2.06-.94L8.5 2.5l-.94 2.06-2.06.94zm10 10l.94 2.06.94-2.06 2.06-.94-2.06-.94-.94-2.06-.94 2.06-2.06.94z\"/><path d=\"M17.41 7.96l-1.37-1.37c-.4-.4-.92-.59-1.43-.59-.52 0-1.04.2-1.43.59L10.3 9.45l-7.72 7.72c-.78.78-.78 2.05 0 2.83L4 21.41c.39.39.9.59 1.41.59.51 0 1.02-.2 1.41-.59l7.78-7.78 2.81-2.81c.8-.78.8-2.07 0-2.86zM5.41 20L4 18.59l7.72-7.72 1.47 1.35L5.41 20z\"/>\n",
              "  </svg>\n",
              "      </button>\n",
              "      \n",
              "  <style>\n",
              "    .colab-df-container {\n",
              "      display:flex;\n",
              "      flex-wrap:wrap;\n",
              "      gap: 12px;\n",
              "    }\n",
              "\n",
              "    .colab-df-convert {\n",
              "      background-color: #E8F0FE;\n",
              "      border: none;\n",
              "      border-radius: 50%;\n",
              "      cursor: pointer;\n",
              "      display: none;\n",
              "      fill: #1967D2;\n",
              "      height: 32px;\n",
              "      padding: 0 0 0 0;\n",
              "      width: 32px;\n",
              "    }\n",
              "\n",
              "    .colab-df-convert:hover {\n",
              "      background-color: #E2EBFA;\n",
              "      box-shadow: 0px 1px 2px rgba(60, 64, 67, 0.3), 0px 1px 3px 1px rgba(60, 64, 67, 0.15);\n",
              "      fill: #174EA6;\n",
              "    }\n",
              "\n",
              "    [theme=dark] .colab-df-convert {\n",
              "      background-color: #3B4455;\n",
              "      fill: #D2E3FC;\n",
              "    }\n",
              "\n",
              "    [theme=dark] .colab-df-convert:hover {\n",
              "      background-color: #434B5C;\n",
              "      box-shadow: 0px 1px 3px 1px rgba(0, 0, 0, 0.15);\n",
              "      filter: drop-shadow(0px 1px 2px rgba(0, 0, 0, 0.3));\n",
              "      fill: #FFFFFF;\n",
              "    }\n",
              "  </style>\n",
              "\n",
              "      <script>\n",
              "        const buttonEl =\n",
              "          document.querySelector('#df-daa5bc0a-4cdb-4ec6-b027-4c37540e52f6 button.colab-df-convert');\n",
              "        buttonEl.style.display =\n",
              "          google.colab.kernel.accessAllowed ? 'block' : 'none';\n",
              "\n",
              "        async function convertToInteractive(key) {\n",
              "          const element = document.querySelector('#df-daa5bc0a-4cdb-4ec6-b027-4c37540e52f6');\n",
              "          const dataTable =\n",
              "            await google.colab.kernel.invokeFunction('convertToInteractive',\n",
              "                                                     [key], {});\n",
              "          if (!dataTable) return;\n",
              "\n",
              "          const docLinkHtml = 'Like what you see? Visit the ' +\n",
              "            '<a target=\"_blank\" href=https://colab.research.google.com/notebooks/data_table.ipynb>data table notebook</a>'\n",
              "            + ' to learn more about interactive tables.';\n",
              "          element.innerHTML = '';\n",
              "          dataTable['output_type'] = 'display_data';\n",
              "          await google.colab.output.renderOutput(dataTable, element);\n",
              "          const docLink = document.createElement('div');\n",
              "          docLink.innerHTML = docLinkHtml;\n",
              "          element.appendChild(docLink);\n",
              "        }\n",
              "      </script>\n",
              "    </div>\n",
              "  </div>\n",
              "  "
            ]
          },
          "metadata": {},
          "execution_count": 47
        }
      ]
    },
    {
      "cell_type": "code",
      "source": [
        "from sklearn.model_selection import train_test_split\n",
        "\n",
        "X_train, X_test, y_train, y_test = train_test_split(feats, target, test_size=0.2, random_state=123)"
      ],
      "metadata": {
        "id": "xafq69zZk0dE"
      },
      "execution_count": 48,
      "outputs": []
    },
    {
      "cell_type": "code",
      "source": [
        "# try with simple linear regression\n",
        "from sklearn.linear_model import LinearRegression\n",
        "\n",
        "slr = LinearRegression()\n",
        "slr.fit(X_train, y_train)\n",
        "\n",
        "print(\"Coefficient of determination of the model on train data:\", slr.score(X_train, y_train))\n",
        "print(\"Coefficient of determination of the model on test data:\", slr.score(X_test, y_test))"
      ],
      "metadata": {
        "colab": {
          "base_uri": "https://localhost:8080/"
        },
        "id": "bfRhp7Q1lLz2",
        "outputId": "4e057f05-7197-40dd-d753-a4507e2cb039"
      },
      "execution_count": 49,
      "outputs": [
        {
          "output_type": "stream",
          "name": "stdout",
          "text": [
            "Coefficient of determination of the model on train data: 0.30758449267618526\n",
            "Coefficient of determination of the model on test data: 0.3069768026903382\n"
          ]
        }
      ]
    },
    {
      "cell_type": "code",
      "source": [
        "from sklearn.metrics import mean_squared_error\n",
        "\n",
        "y_test_pred = slr.predict(X_test)\n",
        "print('RMSE= ', mean_squared_error(y_test, y_test_pred))"
      ],
      "metadata": {
        "colab": {
          "base_uri": "https://localhost:8080/"
        },
        "id": "5n1tKTIrUzBu",
        "outputId": "379cccc6-816d-4746-e363-85abdb37740b"
      },
      "execution_count": 50,
      "outputs": [
        {
          "output_type": "stream",
          "name": "stdout",
          "text": [
            "RMSE=  3.5702792476606597\n"
          ]
        }
      ]
    },
    {
      "cell_type": "markdown",
      "source": [
        "# The score of the first model is not very good. The error of 3.5 (/13) is high."
      ],
      "metadata": {
        "id": "oxCTqhn7QD8W"
      }
    },
    {
      "cell_type": "code",
      "source": [
        "import numpy as np\n",
        "print(np.percentile(y_test_pred, q=[0, 25, 50, 75, 100]))\n",
        "sns.histplot(y_test_pred, bins=12)"
      ],
      "metadata": {
        "colab": {
          "base_uri": "https://localhost:8080/",
          "height": 465
        },
        "id": "WV__3AZTwW4W",
        "outputId": "815074ed-0636-4974-9ea0-27f768c186c3"
      },
      "execution_count": 51,
      "outputs": [
        {
          "output_type": "stream",
          "name": "stdout",
          "text": [
            "[-26.05994817   2.26060847   3.03963069   3.92528132   7.69128779]\n"
          ]
        },
        {
          "output_type": "execute_result",
          "data": {
            "text/plain": [
              "<Axes: ylabel='Count'>"
            ]
          },
          "metadata": {},
          "execution_count": 51
        },
        {
          "output_type": "display_data",
          "data": {
            "text/plain": [
              "<Figure size 640x480 with 1 Axes>"
            ],
            "image/png": "[encoded data removed]"
          },
          "metadata": {}
        }
      ]
    },
    {
      "cell_type": "markdown",
      "source": [
        "# We expect the predicted values in range of [0-13] but it is not the case. However, majority of predicted values fall into the same range of majority of real values.  "
      ],
      "metadata": {
        "id": "kygTfTjRwkqy"
      }
    },
    {
      "cell_type": "code",
      "source": [
        "plt.scatter(y_test_pred, y_test)\n",
        "plt.plot((y_test.min(),y_test.max()), (y_test.min(),y_test.max()), color='red')"
      ],
      "metadata": {
        "colab": {
          "base_uri": "https://localhost:8080/",
          "height": 447
        },
        "id": "woSQorXEWpuW",
        "outputId": "b34cc4ae-ad2a-4651-fd22-76b40bb77256"
      },
      "execution_count": 52,
      "outputs": [
        {
          "output_type": "execute_result",
          "data": {
            "text/plain": [
              "[<matplotlib.lines.Line2D at 0x7f47127173a0>]"
            ]
          },
          "metadata": {},
          "execution_count": 52
        },
        {
          "output_type": "display_data",
          "data": {
            "text/plain": [
              "<Figure size 640x480 with 1 Axes>"
            ],
            "image/png": "[encoded data removed]"
          },
          "metadata": {}
        }
      ]
    },
    {
      "cell_type": "code",
      "source": [
        "from sklearn.linear_model import RidgeCV\n",
        "\n",
        "ridge_reg = RidgeCV(alphas=[0.001, 0.01, 0.1, 0.3, 0.7, 1, 10, 50, 100])\n",
        "\n",
        "ridge_reg.fit(X_train, y_train)"
      ],
      "metadata": {
        "colab": {
          "base_uri": "https://localhost:8080/",
          "height": 75
        },
        "id": "gIVLLRgzmCaI",
        "outputId": "f0f04df5-f8a9-4bb0-d357-ad17c4d4529f"
      },
      "execution_count": 53,
      "outputs": [
        {
          "output_type": "execute_result",
          "data": {
            "text/plain": [
              "RidgeCV(alphas=[0.001, 0.01, 0.1, 0.3, 0.7, 1, 10, 50, 100])"
            ],
            "text/html": [
              "<style>#sk-container-id-3 {color: black;background-color: white;}#sk-container-id-3 pre{padding: 0;}#sk-container-id-3 div.sk-toggleable {background-color: white;}#sk-container-id-3 label.sk-toggleable__label {cursor: pointer;display: block;width: 100%;margin-bottom: 0;padding: 0.3em;box-sizing: border-box;text-align: center;}#sk-container-id-3 label.sk-toggleable__label-arrow:before {content: \"▸\";float: left;margin-right: 0.25em;color: #696969;}#sk-container-id-3 label.sk-toggleable__label-arrow:hover:before {color: black;}#sk-container-id-3 div.sk-estimator:hover label.sk-toggleable__label-arrow:before {color: black;}#sk-container-id-3 div.sk-toggleable__content {max-height: 0;max-width: 0;overflow: hidden;text-align: left;background-color: #f0f8ff;}#sk-container-id-3 div.sk-toggleable__content pre {margin: 0.2em;color: black;border-radius: 0.25em;background-color: #f0f8ff;}#sk-container-id-3 input.sk-toggleable__control:checked~div.sk-toggleable__content {max-height: 200px;max-width: 100%;overflow: auto;}#sk-container-id-3 input.sk-toggleable__control:checked~label.sk-toggleable__label-arrow:before {content: \"▾\";}#sk-container-id-3 div.sk-estimator input.sk-toggleable__control:checked~label.sk-toggleable__label {background-color: #d4ebff;}#sk-container-id-3 div.sk-label input.sk-toggleable__control:checked~label.sk-toggleable__label {background-color: #d4ebff;}#sk-container-id-3 input.sk-hidden--visually {border: 0;clip: rect(1px 1px 1px 1px);clip: rect(1px, 1px, 1px, 1px);height: 1px;margin: -1px;overflow: hidden;padding: 0;position: absolute;width: 1px;}#sk-container-id-3 div.sk-estimator {font-family: monospace;background-color: #f0f8ff;border: 1px dotted black;border-radius: 0.25em;box-sizing: border-box;margin-bottom: 0.5em;}#sk-container-id-3 div.sk-estimator:hover {background-color: #d4ebff;}#sk-container-id-3 div.sk-parallel-item::after {content: \"\";width: 100%;border-bottom: 1px solid gray;flex-grow: 1;}#sk-container-id-3 div.sk-label:hover label.sk-toggleable__label {background-color: #d4ebff;}#sk-container-id-3 div.sk-serial::before {content: \"\";position: absolute;border-left: 1px solid gray;box-sizing: border-box;top: 0;bottom: 0;left: 50%;z-index: 0;}#sk-container-id-3 div.sk-serial {display: flex;flex-direction: column;align-items: center;background-color: white;padding-right: 0.2em;padding-left: 0.2em;position: relative;}#sk-container-id-3 div.sk-item {position: relative;z-index: 1;}#sk-container-id-3 div.sk-parallel {display: flex;align-items: stretch;justify-content: center;background-color: white;position: relative;}#sk-container-id-3 div.sk-item::before, #sk-container-id-3 div.sk-parallel-item::before {content: \"\";position: absolute;border-left: 1px solid gray;box-sizing: border-box;top: 0;bottom: 0;left: 50%;z-index: -1;}#sk-container-id-3 div.sk-parallel-item {display: flex;flex-direction: column;z-index: 1;position: relative;background-color: white;}#sk-container-id-3 div.sk-parallel-item:first-child::after {align-self: flex-end;width: 50%;}#sk-container-id-3 div.sk-parallel-item:last-child::after {align-self: flex-start;width: 50%;}#sk-container-id-3 div.sk-parallel-item:only-child::after {width: 0;}#sk-container-id-3 div.sk-dashed-wrapped {border: 1px dashed gray;margin: 0 0.4em 0.5em 0.4em;box-sizing: border-box;padding-bottom: 0.4em;background-color: white;}#sk-container-id-3 div.sk-label label {font-family: monospace;font-weight: bold;display: inline-block;line-height: 1.2em;}#sk-container-id-3 div.sk-label-container {text-align: center;}#sk-container-id-3 div.sk-container {/* jupyter's `normalize.less` sets `[hidden] { display: none; }` but bootstrap.min.css set `[hidden] { display: none !important; }` so we also need the `!important` here to be able to override the default hidden behavior on the sphinx rendered scikit-learn.org. See: https://github.com/scikit-learn/scikit-learn/issues/21755 */display: inline-block !important;position: relative;}#sk-container-id-3 div.sk-text-repr-fallback {display: none;}</style><div id=\"sk-container-id-3\" class=\"sk-top-container\"><div class=\"sk-text-repr-fallback\"><pre>RidgeCV(alphas=[0.001, 0.01, 0.1, 0.3, 0.7, 1, 10, 50, 100])</pre><b>In a Jupyter environment, please rerun this cell to show the HTML representation or trust the notebook. <br />On GitHub, the HTML representation is unable to render, please try loading this page with nbviewer.org.</b></div><div class=\"sk-container\" hidden><div class=\"sk-item\"><div class=\"sk-estimator sk-toggleable\"><input class=\"sk-toggleable__control sk-hidden--visually\" id=\"sk-estimator-id-3\" type=\"checkbox\" checked><label for=\"sk-estimator-id-3\" class=\"sk-toggleable__label sk-toggleable__label-arrow\">RidgeCV</label><div class=\"sk-toggleable__content\"><pre>RidgeCV(alphas=[0.001, 0.01, 0.1, 0.3, 0.7, 1, 10, 50, 100])</pre></div></div></div></div></div>"
            ]
          },
          "metadata": {},
          "execution_count": 53
        }
      ]
    },
    {
      "cell_type": "code",
      "source": [
        "print(ridge_reg.alpha_)\n",
        "print(ridge_reg.score(X_train, y_train))\n",
        "print(ridge_reg.score(X_test, y_test))"
      ],
      "metadata": {
        "colab": {
          "base_uri": "https://localhost:8080/"
        },
        "id": "l0JzUJfhm0da",
        "outputId": "c598c5f0-dd88-4259-945f-5a966e123d61"
      },
      "execution_count": 54,
      "outputs": [
        {
          "output_type": "stream",
          "name": "stdout",
          "text": [
            "100.0\n",
            "0.30813643689765635\n",
            "0.30757779419414744\n"
          ]
        }
      ]
    },
    {
      "cell_type": "code",
      "source": [
        "from sklearn.linear_model import LassoCV\n",
        "model_lasso = LassoCV(cv=10)\n",
        "model_lasso.fit(X_train, y_train)"
      ],
      "metadata": {
        "colab": {
          "base_uri": "https://localhost:8080/",
          "height": 129
        },
        "id": "mPzDRu68nZVN",
        "outputId": "40317b93-d41f-4b56-d9d9-0dbeb117665c"
      },
      "execution_count": 55,
      "outputs": [
        {
          "output_type": "stream",
          "name": "stderr",
          "text": [
            "/usr/local/lib/python3.10/dist-packages/sklearn/linear_model/_coordinate_descent.py:631: ConvergenceWarning: Objective did not converge. You might want to increase the number of iterations, check the scale of the features or consider increasing regularisation. Duality gap: 7.474e+03, tolerance: 4.217e+02\n",
            "  model = cd_fast.enet_coordinate_descent(\n"
          ]
        },
        {
          "output_type": "execute_result",
          "data": {
            "text/plain": [
              "LassoCV(cv=10)"
            ],
            "text/html": [
              "<style>#sk-container-id-4 {color: black;background-color: white;}#sk-container-id-4 pre{padding: 0;}#sk-container-id-4 div.sk-toggleable {background-color: white;}#sk-container-id-4 label.sk-toggleable__label {cursor: pointer;display: block;width: 100%;margin-bottom: 0;padding: 0.3em;box-sizing: border-box;text-align: center;}#sk-container-id-4 label.sk-toggleable__label-arrow:before {content: \"▸\";float: left;margin-right: 0.25em;color: #696969;}#sk-container-id-4 label.sk-toggleable__label-arrow:hover:before {color: black;}#sk-container-id-4 div.sk-estimator:hover label.sk-toggleable__label-arrow:before {color: black;}#sk-container-id-4 div.sk-toggleable__content {max-height: 0;max-width: 0;overflow: hidden;text-align: left;background-color: #f0f8ff;}#sk-container-id-4 div.sk-toggleable__content pre {margin: 0.2em;color: black;border-radius: 0.25em;background-color: #f0f8ff;}#sk-container-id-4 input.sk-toggleable__control:checked~div.sk-toggleable__content {max-height: 200px;max-width: 100%;overflow: auto;}#sk-container-id-4 input.sk-toggleable__control:checked~label.sk-toggleable__label-arrow:before {content: \"▾\";}#sk-container-id-4 div.sk-estimator input.sk-toggleable__control:checked~label.sk-toggleable__label {background-color: #d4ebff;}#sk-container-id-4 div.sk-label input.sk-toggleable__control:checked~label.sk-toggleable__label {background-color: #d4ebff;}#sk-container-id-4 input.sk-hidden--visually {border: 0;clip: rect(1px 1px 1px 1px);clip: rect(1px, 1px, 1px, 1px);height: 1px;margin: -1px;overflow: hidden;padding: 0;position: absolute;width: 1px;}#sk-container-id-4 div.sk-estimator {font-family: monospace;background-color: #f0f8ff;border: 1px dotted black;border-radius: 0.25em;box-sizing: border-box;margin-bottom: 0.5em;}#sk-container-id-4 div.sk-estimator:hover {background-color: #d4ebff;}#sk-container-id-4 div.sk-parallel-item::after {content: \"\";width: 100%;border-bottom: 1px solid gray;flex-grow: 1;}#sk-container-id-4 div.sk-label:hover label.sk-toggleable__label {background-color: #d4ebff;}#sk-container-id-4 div.sk-serial::before {content: \"\";position: absolute;border-left: 1px solid gray;box-sizing: border-box;top: 0;bottom: 0;left: 50%;z-index: 0;}#sk-container-id-4 div.sk-serial {display: flex;flex-direction: column;align-items: center;background-color: white;padding-right: 0.2em;padding-left: 0.2em;position: relative;}#sk-container-id-4 div.sk-item {position: relative;z-index: 1;}#sk-container-id-4 div.sk-parallel {display: flex;align-items: stretch;justify-content: center;background-color: white;position: relative;}#sk-container-id-4 div.sk-item::before, #sk-container-id-4 div.sk-parallel-item::before {content: \"\";position: absolute;border-left: 1px solid gray;box-sizing: border-box;top: 0;bottom: 0;left: 50%;z-index: -1;}#sk-container-id-4 div.sk-parallel-item {display: flex;flex-direction: column;z-index: 1;position: relative;background-color: white;}#sk-container-id-4 div.sk-parallel-item:first-child::after {align-self: flex-end;width: 50%;}#sk-container-id-4 div.sk-parallel-item:last-child::after {align-self: flex-start;width: 50%;}#sk-container-id-4 div.sk-parallel-item:only-child::after {width: 0;}#sk-container-id-4 div.sk-dashed-wrapped {border: 1px dashed gray;margin: 0 0.4em 0.5em 0.4em;box-sizing: border-box;padding-bottom: 0.4em;background-color: white;}#sk-container-id-4 div.sk-label label {font-family: monospace;font-weight: bold;display: inline-block;line-height: 1.2em;}#sk-container-id-4 div.sk-label-container {text-align: center;}#sk-container-id-4 div.sk-container {/* jupyter's `normalize.less` sets `[hidden] { display: none; }` but bootstrap.min.css set `[hidden] { display: none !important; }` so we also need the `!important` here to be able to override the default hidden behavior on the sphinx rendered scikit-learn.org. See: https://github.com/scikit-learn/scikit-learn/issues/21755 */display: inline-block !important;position: relative;}#sk-container-id-4 div.sk-text-repr-fallback {display: none;}</style><div id=\"sk-container-id-4\" class=\"sk-top-container\"><div class=\"sk-text-repr-fallback\"><pre>LassoCV(cv=10)</pre><b>In a Jupyter environment, please rerun this cell to show the HTML representation or trust the notebook. <br />On GitHub, the HTML representation is unable to render, please try loading this page with nbviewer.org.</b></div><div class=\"sk-container\" hidden><div class=\"sk-item\"><div class=\"sk-estimator sk-toggleable\"><input class=\"sk-toggleable__control sk-hidden--visually\" id=\"sk-estimator-id-4\" type=\"checkbox\" checked><label for=\"sk-estimator-id-4\" class=\"sk-toggleable__label sk-toggleable__label-arrow\">LassoCV</label><div class=\"sk-toggleable__content\"><pre>LassoCV(cv=10)</pre></div></div></div></div></div>"
            ]
          },
          "metadata": {},
          "execution_count": 55
        }
      ]
    },
    {
      "cell_type": "code",
      "source": [
        "print(model_lasso.score(X_train, y_train))\n",
        "print(model_lasso.score(X_test, y_test))"
      ],
      "metadata": {
        "colab": {
          "base_uri": "https://localhost:8080/"
        },
        "id": "KId3i7Ignvtj",
        "outputId": "bc248c9a-65a9-4a6e-8027-5ecd98d70bbe"
      },
      "execution_count": 56,
      "outputs": [
        {
          "output_type": "stream",
          "name": "stdout",
          "text": [
            "0.30812311630066447\n",
            "0.30759036004072093\n"
          ]
        }
      ]
    },
    {
      "cell_type": "markdown",
      "source": [
        "# Some tests with other linear regression algorithmes (Ridge, Lasso) did not bring any improvement.\n",
        "\n",
        "# So maybe \n",
        "\n",
        "*   Linear regression is not suitable for this problem ?\n",
        "*   Or feature selection needs to be improved ?\n",
        "*   Target prediction needs to be reconsidered ?  \n",
        "\n"
      ],
      "metadata": {
        "id": "_eizekCzzWVY"
      }
    },
    {
      "cell_type": "markdown",
      "source": [
        "Lets try with some other algorithmes..."
      ],
      "metadata": {
        "id": "CaqFZ9YS0VFH"
      }
    }
  ],
  "metadata": {
    "colab": {
      "provenance": [],
      "authorship_tag": "ABX9TyMSXRqptDNbWZm0Fqfb4RCv",
      "include_colab_link": true
    },
    "kernelspec": {
      "display_name": "Python 3",
      "name": "python3"
    },
    "language_info": {
      "name": "python"
    }
  },
  "nbformat": 4,
  "nbformat_minor": 0
}